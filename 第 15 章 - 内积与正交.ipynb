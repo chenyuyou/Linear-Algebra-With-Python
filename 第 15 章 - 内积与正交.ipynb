{
 "cells": [
  {
   "cell_type": "code",
   "execution_count": 2,
   "metadata": {},
   "outputs": [],
   "source": [
    "import matplotlib.pyplot as plt\n",
    "import matplotlib as mpl\n",
    "import numpy as np\n",
    "from mpl_toolkits.mplot3d import Axes3D\n",
    "import scipy as sp\n",
    "import scipy.linalg\n",
    "import scipy.spatial\n",
    "import sympy as sy\n",
    "sy.init_printing() "
   ]
  },
  {
   "cell_type": "markdown",
   "metadata": {},
   "source": [
    "# <font face=\"gotham\" color=\"purple\"> 点积</font>"
   ]
  },
  {
   "cell_type": "markdown",
   "metadata": {},
   "source": [
    "考虑两个向量\n",
    "\n",
    "$$\n",
    "\\mathbf{u}=\\left[\\begin{array}{l}\n",
    "u_{1} \\\\\n",
    "u_{2} \\\\\n",
    "\\vdots \\\\\n",
    "u_{n}\n",
    "\\end{array}\\right] \\quad \\text { 且 } \\bf{v}=\\left[\\begin{array}{l}\n",
    "v_{1} \\\\\n",
    "v_{2} \\\\\n",
    "\\vdots \\\\\n",
    "v_{n}\n",
    "\\end{array}\\right]\n",
    "$$"
   ]
  },
  {
   "cell_type": "markdown",
   "metadata": {},
   "source": [
    "向量$\\mathbf{u}$和$\\mathbf{v}$的点积，即$\\mathbf{u}\\cdot\\mathbf{v}$，定义为\n",
    "\n",
    "$$\n",
    "\\left[\\begin{array}{llll}\n",
    "u_{1} & u_{2} & \\cdots & u_{n}\n",
    "\\end{array}\\right]\\left[\\begin{array}{c}\n",
    "v_{1} \\\\\n",
    "v_{2} \\\\\n",
    "\\vdots \\\\\n",
    "v_{n}\n",
    "\\end{array}\\right]=u_{1} v_{1}+u_{2} v_{2}+\\cdots+u_{n} v_{n}\n",
    "$$"
   ]
  },
  {
   "cell_type": "markdown",
   "metadata": {},
   "source": [
    "我们可以生成两个随机向量，然后比较NumPy中的操作。"
   ]
  },
  {
   "cell_type": "code",
   "execution_count": 3,
   "metadata": {},
   "outputs": [],
   "source": [
    "u = np.round(100*np.random.randn(10))\n",
    "v = np.round(100*np.random.randn(10))"
   ]
  },
  {
   "cell_type": "code",
   "execution_count": 4,
   "metadata": {},
   "outputs": [
    {
     "data": {
      "text/plain": [
       "array([  -344.,   -704.,  -8094.,   4331.,   5120.,    700.,  12540.,\n",
       "        -2470.,    -95., -27846.])"
      ]
     },
     "execution_count": 4,
     "metadata": {},
     "output_type": "execute_result"
    }
   ],
   "source": [
    "u*v # 这是逐元素乘法"
   ]
  },
  {
   "cell_type": "code",
   "execution_count": 5,
   "metadata": {},
   "outputs": [
    {
     "data": {
      "image/png": "[encoded data removed]",
      "text/latex": [
       "$\\displaystyle -16862.0$"
      ],
      "text/plain": [
       "-16862.0"
      ]
     },
     "execution_count": 5,
     "metadata": {},
     "output_type": "execute_result"
    }
   ],
   "source": [
    "u@v # 矩阵乘法"
   ]
  },
  {
   "cell_type": "code",
   "execution_count": 6,
   "metadata": {},
   "outputs": [
    {
     "data": {
      "image/png": "[encoded data removed]",
      "text/latex": [
       "$\\displaystyle -16862.0$"
      ],
      "text/plain": [
       "-16862.0"
      ]
     },
     "execution_count": 6,
     "metadata": {},
     "output_type": "execute_result"
    }
   ],
   "source": [
    "np.inner(u,v) # 这里的内积与矩阵乘法相同"
   ]
  },
  {
   "cell_type": "markdown",
   "metadata": {},
   "source": [
    "SymPy操作与线性代数中的操作相同"
   ]
  },
  {
   "cell_type": "code",
   "execution_count": 7,
   "metadata": {},
   "outputs": [],
   "source": [
    "u = sy.randMatrix(1, 10)\n",
    "v = sy.randMatrix(1, 10)"
   ]
  },
  {
   "cell_type": "code",
   "execution_count": 8,
   "metadata": {},
   "outputs": [
    {
     "data": {
      "text/latex": [
       "$\\displaystyle \\left[\\begin{matrix}19923\\end{matrix}\\right]$"
      ],
      "text/plain": [
       "[19923]"
      ]
     },
     "execution_count": 8,
     "metadata": {},
     "output_type": "execute_result"
    }
   ],
   "source": [
    "u*v.T"
   ]
  },
  {
   "cell_type": "markdown",
   "metadata": {},
   "source": [
    "# <font face=\"gotham\" color=\"purple\"> 向量的范数</font>"
   ]
  },
  {
   "cell_type": "markdown",
   "metadata": {},
   "source": [
    "The <font face=\"gotham\" color=\"red\">范数</font> 是向量的长度，定义为\n",
    "\n",
    "$$\n",
    "\\|\\mathbf{v}\\|=\\sqrt{\\mathbf{v} \\cdot \\mathbf{v}}=\\sqrt{v_{1}^{2}+v_{2}^{2}+\\cdots+v_{n}^{2}}, \\quad \\text { and } \\quad\\|\\mathbf{v}\\|^{2}=\\mathbf{v} \\cdot \\mathbf{v}\n",
    "$$"
   ]
  },
  {
   "cell_type": "markdown",
   "metadata": {},
   "source": [
    "NumPy内置的`np.linalg.norm()`用于计算范数。默认设置是计算向量从原点到各点的长度。"
   ]
  },
  {
   "cell_type": "code",
   "execution_count": 9,
   "metadata": {},
   "outputs": [
    {
     "data": {
      "image/png": "[encoded data removed]",
      "text/latex": [
       "$\\displaystyle 6.32455532033676$"
      ],
      "text/plain": [
       "6.324555320336759"
      ]
     },
     "execution_count": 9,
     "metadata": {},
     "output_type": "execute_result"
    }
   ],
   "source": [
    "a = [2, 6]\n",
    "np.linalg.norm(a)"
   ]
  },
  {
   "cell_type": "markdown",
   "metadata": {},
   "source": [
    "验证结果。"
   ]
  },
  {
   "cell_type": "code",
   "execution_count": 10,
   "metadata": {},
   "outputs": [
    {
     "data": {
      "image/png": "[encoded data removed]",
      "text/latex": [
       "$\\displaystyle 6.32455532033676$"
      ],
      "text/plain": [
       "6.324555320336759"
      ]
     },
     "execution_count": 10,
     "metadata": {},
     "output_type": "execute_result"
    }
   ],
   "source": [
    "np.sqrt(2**2 + 6**2)"
   ]
  },
  {
   "cell_type": "markdown",
   "metadata": {},
   "source": [
    "我们还可以计算一组向量的长度，例如$(2, 6)^T$，$(8, 2)^T$，$(9, 1)^T$"
   ]
  },
  {
   "cell_type": "code",
   "execution_count": 11,
   "metadata": {},
   "outputs": [
    {
     "data": {
      "text/plain": [
       "array([6.32455532, 8.24621125, 9.05538514])"
      ]
     },
     "execution_count": 11,
     "metadata": {},
     "output_type": "execute_result"
    }
   ],
   "source": [
    "A = np.array([[2, 8, 9], \n",
    "              [6, 2, 1]])\n",
    "np.linalg.norm(A, axis = 0)"
   ]
  },
  {
   "cell_type": "markdown",
   "metadata": {},
   "source": [
    "# <font face=\"gotham\" color=\"purple\"> 在$\\mathbb{R}^n$中的距离</font>"
   ]
  },
  {
   "cell_type": "markdown",
   "metadata": {},
   "source": [
    "对于$\\mathbb{R}^n$中的向量$\\mathbf{u}$和$\\mathbf{v}$，$\\mathbf{u}$和$\\mathbf{v}$之间的距离，记作$\\text{dist}(\\mathbf{u}, \\mathbf{v})$，是向量$\\mathbf{u}-\\mathbf{v}$的长度。换句话说，\n",
    "\n",
    "$$\n",
    "\\operatorname{dist}(\\mathbf{u}, \\mathbf{v})=\\|\\mathbf{u}-\\mathbf{v}\\|\n",
    "$$"
   ]
  },
  {
   "cell_type": "markdown",
   "metadata": {},
   "source": [
    "假设我们有两个向量$\\mathbf{u} = (2, 9)$和$\\mathbf{v} = (-3, 4)$，计算它们之间的距离并可视化结果。"
   ]
  },
  {
   "cell_type": "code",
   "execution_count": 12,
   "metadata": {},
   "outputs": [
    {
     "data": {
      "image/png": "[encoded data removed]",
      "text/latex": [
       "$\\displaystyle 7.07106781186548$"
      ],
      "text/plain": [
       "7.0710678118654755"
      ]
     },
     "execution_count": 12,
     "metadata": {},
     "output_type": "execute_result"
    }
   ],
   "source": [
    "u = np.array([2, 9])\n",
    "v = np.array([-3, 4])\n",
    "np.linalg.norm(u - v)"
   ]
  },
  {
   "cell_type": "code",
   "execution_count": 13,
   "metadata": {},
   "outputs": [
    {
     "name": "stderr",
     "output_type": "stream",
     "text": [
      "<>:30: SyntaxWarning: invalid escape sequence '\\|'\n",
      "<>:30: SyntaxWarning: invalid escape sequence '\\|'\n",
      "C:\\Users\\cyy\\AppData\\Local\\Temp\\ipykernel_44336\\2515233506.py:30: SyntaxWarning: invalid escape sequence '\\|'\n",
      "  ax.text(-2, 6, '$\\|\\|\\mathbf{u}-\\mathbf{v}\\|\\|$', size = 16)\n"
     ]
    },
    {
     "data": {
      "image/png": "[encoded data removed]",
      "text/plain": [
       "<Figure size 1200x1200 with 1 Axes>"
      ]
     },
     "metadata": {},
     "output_type": "display_data"
    }
   ],
   "source": [
    "fig, ax = plt.subplots(figsize = (12, 12))\n",
    "\n",
    "vects = np.array([[2, 9], [-3, 4], [3, -4], [5, 5]])\n",
    "col = ['red', 'blue', 'blue', 'green']\n",
    "cordt = ['$(2, 9)$', '$(-3, 4)$', '$(3, -4)$', '$(5, 5)$']\n",
    "\n",
    "for i in range(4):\n",
    "    ax.arrow(0, 0, vects[i, 0], vects[i, 1], color = col[i], width = .08, \n",
    "             length_includes_head = True,\n",
    "             head_width = .3, # default: 3*width\n",
    "             head_length = .6,\n",
    "             overhang = .4)\n",
    "    ax.text(x = vects[i][0], y = vects[i][1], s = cordt[i], size = 15)\n",
    "ax.grid()\n",
    "\n",
    "points = np.array([[2, 9], [5, 5], [3, -4], [-3, 4]])\n",
    "\n",
    "ax.arrow(points[3][0], points[3][1], points[1][0], points[1][1], color = 'green', width = .08, \n",
    "         length_includes_head = True,\n",
    "         head_width = .3, # default: 3*width\n",
    "         head_length = .6,\n",
    "         overhang = .4)\n",
    "\n",
    "line1 = np.array([points[0], points[1]])\n",
    "ax.plot(line1[:,0], line1[:,1], c = 'b', lw = 3.5,alpha =0.5, ls = '--')\n",
    "\n",
    "line2 = np.array([points[2], points[1]])\n",
    "ax.plot(line2[:,0], line2[:,1], c = 'b', lw = 3.5,alpha =0.5, ls = '--')\n",
    "\n",
    "ax.text(-2, 6, '$\\|\\|\\mathbf{u}-\\mathbf{v}\\|\\|$', size = 16)\n",
    "\n",
    "###################### Axis, Spines, Ticks ##########################\n",
    "ax.axis([-10, 10.1, -10.1, 10.1])\n",
    "ax.spines['left'].set_position('center')\n",
    "ax.spines['right'].set_color('none')\n",
    "ax.spines['bottom'].set_position('center')\n",
    "ax.spines['top'].set_color('none')\n",
    "ax.xaxis.set_ticks_position('bottom')\n",
    "ax.yaxis.set_ticks_position('left')\n",
    "\n",
    "ax.minorticks_on()\n",
    "ax.tick_params(axis = 'both', direction = 'inout', length=12, width=2, which='major')\n",
    "ax.tick_params(axis = 'both', direction = 'inout', length=10, width=1, which='minor')"
   ]
  },
  {
   "cell_type": "markdown",
   "metadata": {},
   "source": [
    "从图中我们可以知道，$\\|\\mathbf{u}-\\mathbf{v}\\|$等于$\\sqrt{5^2 + 5^2}$。"
   ]
  },
  {
   "cell_type": "code",
   "execution_count": 14,
   "metadata": {},
   "outputs": [
    {
     "data": {
      "image/png": "[encoded data removed]",
      "text/latex": [
       "$\\displaystyle 7.07106781186548$"
      ],
      "text/plain": [
       "7.0710678118654755"
      ]
     },
     "execution_count": 14,
     "metadata": {},
     "output_type": "execute_result"
    }
   ],
   "source": [
    "np.sqrt(5**2 + 5**2)"
   ]
  },
  {
   "cell_type": "markdown",
   "metadata": {},
   "source": [
    "与```np.linalg.norm(u - v)```的结果相同。"
   ]
  },
  {
   "cell_type": "markdown",
   "metadata": {},
   "source": [
    "# <font face=\"gotham\" color=\"purple\"> 正交向量</font>"
   ]
  },
  {
   "cell_type": "markdown",
   "metadata": {},
   "source": [
    "我们有两个向量 $\\mathbf{u}$ 和 $\\mathbf{v}$, 求 $\\|\\mathbf{u}+\\mathbf{v}\\|$ 和 $\\|\\mathbf{u}-\\mathbf{v}\\|$ 的距离的平方\n",
    "\n",
    "\n",
    "\n",
    "$$\\begin{aligned}\n",
    "\\big[\\operatorname{dist}(\\mathbf{u},-\\mathbf{v})\\big]^{2} &=\\|\\mathbf{u}-(-\\mathbf{v})\\|^{2}=\\|\\mathbf{u}+\\mathbf{v}\\|^{2} \\\\\n",
    "&=(\\mathbf{u}+\\mathbf{v}) \\cdot(\\mathbf{u}+\\mathbf{v}) \\\\\n",
    "&=\\mathbf{u} \\cdot(\\mathbf{u}+\\mathbf{v})+\\mathbf{v} \\cdot(\\mathbf{u}+\\mathbf{v}) \\\\\n",
    "&=\\mathbf{u} \\cdot \\mathbf{u}+\\mathbf{u} \\cdot \\mathbf{v}+\\mathbf{v} \\cdot \\mathbf{u}+\\mathbf{v} \\cdot \\mathbf{v} \\\\\n",
    "&=\\|\\mathbf{u}\\|^{2}+\\|\\mathbf{v}\\|^{2}+2 \\mathbf{u} \\cdot \\mathbf{v}\n",
    "\\end{aligned}$$"
   ]
  },
  {
   "cell_type": "markdown",
   "metadata": {},
   "source": [
    "$$\\begin{aligned}\n",
    "\\big[\\operatorname{dist}(\\mathbf{u}, \\mathbf{v})\\big]^{2} &=\\|\\mathbf{u}\\|^{2}+\\|-\\mathbf{v}\\|^{2}+2 \\mathbf{u} \\cdot(-\\mathbf{v}) \\\\\n",
    "&=\\|\\mathbf{u}\\|^{2}+\\|\\mathbf{v}\\|^{2}-2 \\mathbf{u} \\cdot \\mathbf{v}\n",
    "\\end{aligned}$$"
   ]
  },
  {
   "cell_type": "markdown",
   "metadata": {},
   "source": [
    "假设 $\\mathbf{u} = (1, 4)$ 和 $\\mathbf{v} = (-2, 2)$, 可视化向量和距离。\n"
   ]
  },
  {
   "cell_type": "code",
   "execution_count": 15,
   "metadata": {},
   "outputs": [
    {
     "name": "stderr",
     "output_type": "stream",
     "text": [
      "<>:6: SyntaxWarning: invalid escape sequence '\\m'\n",
      "<>:6: SyntaxWarning: invalid escape sequence '\\m'\n",
      "<>:6: SyntaxWarning: invalid escape sequence '\\m'\n",
      "<>:17: SyntaxWarning: invalid escape sequence '\\|'\n",
      "<>:18: SyntaxWarning: invalid escape sequence '\\|'\n",
      "<>:6: SyntaxWarning: invalid escape sequence '\\m'\n",
      "<>:6: SyntaxWarning: invalid escape sequence '\\m'\n",
      "<>:6: SyntaxWarning: invalid escape sequence '\\m'\n",
      "<>:17: SyntaxWarning: invalid escape sequence '\\|'\n",
      "<>:18: SyntaxWarning: invalid escape sequence '\\|'\n",
      "C:\\Users\\cyy\\AppData\\Local\\Temp\\ipykernel_44336\\4069400583.py:6: SyntaxWarning: invalid escape sequence '\\m'\n",
      "  vec_name = ['$\\mathbf{u}$', '$\\mathbf{v}$','$\\mathbf{-v}$']\n",
      "C:\\Users\\cyy\\AppData\\Local\\Temp\\ipykernel_44336\\4069400583.py:6: SyntaxWarning: invalid escape sequence '\\m'\n",
      "  vec_name = ['$\\mathbf{u}$', '$\\mathbf{v}$','$\\mathbf{-v}$']\n",
      "C:\\Users\\cyy\\AppData\\Local\\Temp\\ipykernel_44336\\4069400583.py:6: SyntaxWarning: invalid escape sequence '\\m'\n",
      "  vec_name = ['$\\mathbf{u}$', '$\\mathbf{v}$','$\\mathbf{-v}$']\n",
      "C:\\Users\\cyy\\AppData\\Local\\Temp\\ipykernel_44336\\4069400583.py:17: SyntaxWarning: invalid escape sequence '\\|'\n",
      "  ax.text(x = -1, y = 3, s = '$\\|\\|\\mathbf{u}-\\mathbf{v}\\|\\|$', size = 15)\n",
      "C:\\Users\\cyy\\AppData\\Local\\Temp\\ipykernel_44336\\4069400583.py:18: SyntaxWarning: invalid escape sequence '\\|'\n",
      "  ax.text(x = 1.5, y = 1, s = '$\\|\\|\\mathbf{u}+\\mathbf{v}\\|\\|$', size = 15)\n"
     ]
    },
    {
     "data": {
      "image/png": "[encoded data removed]",
      "text/plain": [
       "<Figure size 1200x1200 with 1 Axes>"
      ]
     },
     "metadata": {},
     "output_type": "display_data"
    }
   ],
   "source": [
    "fig, ax = plt.subplots(figsize = (12, 12))\n",
    "\n",
    "vects = np.array([[1, 4], [-2, 2], [2, -2]])\n",
    "colr = ['red', 'blue', 'blue'] \n",
    "cordt = ['$(1, 4)$', '$(-2, 2)$', '$(2, -2)$']\n",
    "vec_name = ['$\\mathbf{u}$', '$\\mathbf{v}$','$\\mathbf{-v}$']\n",
    "\n",
    "for i in range(3):\n",
    "    ax.arrow(0, 0, vects[i][0], vects[i][1], color = colr[i], width = .08, \n",
    "             length_includes_head = True,\n",
    "             head_width = .3, # default: 3*width\n",
    "             head_length = .6,\n",
    "             overhang = .4)\n",
    "    ax.text(x = vects[i][0], y = vects[i][1], s = cordt[i], size = 15)\n",
    "    ax.text(x = vects[i][0]/2, y = vects[i][1]/2, s = vec_name[i], size = 22)\n",
    "\n",
    "ax.text(x = -1, y = 3, s = '$\\|\\|\\mathbf{u}-\\mathbf{v}\\|\\|$', size = 15)    \n",
    "ax.text(x = 1.5, y = 1, s = '$\\|\\|\\mathbf{u}+\\mathbf{v}\\|\\|$', size = 15)    \n",
    "\n",
    "\n",
    "\n",
    "############################### Dashed Line #######################\n",
    "line1 = np.array([vects[0], vects[1]])\n",
    "ax.plot(line1[:,0], line1[:,1], c = 'b', lw = 3.5,alpha =0.5, ls = '--')\n",
    "\n",
    "line2 = np.array([vects[0], vects[2]])\n",
    "ax.plot(line2[:,0], line2[:,1], c = 'b', lw = 3.5,alpha =0.5, ls = '--')\n",
    "\n",
    "###################### Axis, Spines, Ticks ##########################\n",
    "ax.spines['left'].set_position('center')\n",
    "ax.spines['right'].set_color('none')\n",
    "ax.spines['bottom'].set_position('center')\n",
    "ax.spines['top'].set_color('none')\n",
    "ax.xaxis.set_ticks_position('bottom')\n",
    "ax.yaxis.set_ticks_position('left')\n",
    "\n",
    "ax.minorticks_on()\n",
    "ax.tick_params(axis = 'both', direction = 'inout', length=12, width=2, which='major')\n",
    "ax.tick_params(axis = 'both', direction = 'inout', length=10, width=1, which='minor')\n",
    "\n",
    "ax.axis([-5, 5, -5, 5])\n",
    "ax.grid()"
   ]
  },
  {
   "cell_type": "markdown",
   "metadata": {},
   "source": [
    "请注意，如果$\\big[\\operatorname{dist}(\\mathbf{u},-\\mathbf{v})\\big]^{2} = \\big[\\operatorname{dist}(\\mathbf{u}, \\mathbf{v})\\big]^{2}$，那么$\\mathbf{u}$和$\\mathbf{v}$是正交的。根据上述方程，必须有\n",
    "\n",
    "$$\\mathbf{u} \\cdot \\mathbf{v} = 0$$\n",
    "\n",
    "这是线性代数中最重要的结论之一。"
   ]
  },
  {
   "cell_type": "markdown",
   "metadata": {},
   "source": [
    "假设另有一个向量$w = (2.5, 2.5)$，让我们再次在图上绘制它。"
   ]
  },
  {
   "cell_type": "code",
   "execution_count": 16,
   "metadata": {},
   "outputs": [
    {
     "name": "stderr",
     "output_type": "stream",
     "text": [
      "<>:6: SyntaxWarning: invalid escape sequence '\\m'\n",
      "<>:6: SyntaxWarning: invalid escape sequence '\\m'\n",
      "<>:6: SyntaxWarning: invalid escape sequence '\\m'\n",
      "<>:6: SyntaxWarning: invalid escape sequence '\\m'\n",
      "<>:17: SyntaxWarning: invalid escape sequence '\\|'\n",
      "<>:18: SyntaxWarning: invalid escape sequence '\\|'\n",
      "<>:6: SyntaxWarning: invalid escape sequence '\\m'\n",
      "<>:6: SyntaxWarning: invalid escape sequence '\\m'\n",
      "<>:6: SyntaxWarning: invalid escape sequence '\\m'\n",
      "<>:6: SyntaxWarning: invalid escape sequence '\\m'\n",
      "<>:17: SyntaxWarning: invalid escape sequence '\\|'\n",
      "<>:18: SyntaxWarning: invalid escape sequence '\\|'\n",
      "C:\\Users\\cyy\\AppData\\Local\\Temp\\ipykernel_44336\\789349921.py:6: SyntaxWarning: invalid escape sequence '\\m'\n",
      "  vec_name = ['$\\mathbf{u}$', '$\\mathbf{v}$','$\\mathbf{-v}$', '$\\mathbf{w}$']\n",
      "C:\\Users\\cyy\\AppData\\Local\\Temp\\ipykernel_44336\\789349921.py:6: SyntaxWarning: invalid escape sequence '\\m'\n",
      "  vec_name = ['$\\mathbf{u}$', '$\\mathbf{v}$','$\\mathbf{-v}$', '$\\mathbf{w}$']\n",
      "C:\\Users\\cyy\\AppData\\Local\\Temp\\ipykernel_44336\\789349921.py:6: SyntaxWarning: invalid escape sequence '\\m'\n",
      "  vec_name = ['$\\mathbf{u}$', '$\\mathbf{v}$','$\\mathbf{-v}$', '$\\mathbf{w}$']\n",
      "C:\\Users\\cyy\\AppData\\Local\\Temp\\ipykernel_44336\\789349921.py:6: SyntaxWarning: invalid escape sequence '\\m'\n",
      "  vec_name = ['$\\mathbf{u}$', '$\\mathbf{v}$','$\\mathbf{-v}$', '$\\mathbf{w}$']\n",
      "C:\\Users\\cyy\\AppData\\Local\\Temp\\ipykernel_44336\\789349921.py:17: SyntaxWarning: invalid escape sequence '\\|'\n",
      "  ax.text(x = -1, y = 3, s = '$\\|\\|\\mathbf{u}-\\mathbf{v}\\|\\|$', size = 15)\n",
      "C:\\Users\\cyy\\AppData\\Local\\Temp\\ipykernel_44336\\789349921.py:18: SyntaxWarning: invalid escape sequence '\\|'\n",
      "  ax.text(x = 1.5, y = 1, s = '$\\|\\|\\mathbf{u}+\\mathbf{v}\\|\\|$', size = 15)\n"
     ]
    },
    {
     "data": {
      "image/png": "[encoded data removed]",
      "text/plain": [
       "<Figure size 1200x1200 with 1 Axes>"
      ]
     },
     "metadata": {},
     "output_type": "display_data"
    }
   ],
   "source": [
    "fig, ax = plt.subplots(figsize = (12, 12))\n",
    "\n",
    "vects = np.array([[1, 4], [-2, 2], [2, -2], [2.5, 2.5]])\n",
    "colr = ['red', 'blue', 'blue', 'green'] \n",
    "cordt = ['$(1, 4)$', '$(-2, 2)$', '$(2, -2)$', '$(2.5, 2.5)$']\n",
    "vec_name = ['$\\mathbf{u}$', '$\\mathbf{v}$','$\\mathbf{-v}$', '$\\mathbf{w}$']\n",
    "\n",
    "for i in range(4):\n",
    "    ax.arrow(0, 0, vects[i][0], vects[i][1], color = colr[i], width = .08, \n",
    "             length_includes_head = True,\n",
    "             head_width = .3, # default: 3*width\n",
    "             head_length = .6,\n",
    "             overhang = .4)\n",
    "    ax.text(x = vects[i][0], y = vects[i][1], s = cordt[i], size = 15)\n",
    "    ax.text(x = vects[i][0]/2, y = vects[i][1]/2, s = vec_name[i], size = 22)\n",
    "\n",
    "ax.text(x = -1, y = 3, s = '$\\|\\|\\mathbf{u}-\\mathbf{v}\\|\\|$', size = 15)    \n",
    "ax.text(x = 1.5, y = 1, s = '$\\|\\|\\mathbf{u}+\\mathbf{v}\\|\\|$', size = 15)    \n",
    "\n",
    "############################### Dashed Line #######################\n",
    "\n",
    "line1 = np.array([vects[0], vects[1]])\n",
    "ax.plot(line1[:,0], line1[:,1], c = 'b', lw = 3.5,alpha =0.5, ls = '--')\n",
    "\n",
    "line2 = np.array([vects[0], vects[2]])\n",
    "ax.plot(line2[:,0], line2[:,1], c = 'b', lw = 3.5,alpha =0.5, ls = '--')\n",
    "\n",
    "line1 = np.array([vects[1], vects[3]])\n",
    "ax.plot(line1[:,0], line1[:,1], c = 'k', lw = 3.5,alpha =0.5, ls = '--')\n",
    "\n",
    "line2 = np.array([vects[2], vects[3]])\n",
    "ax.plot(line2[:,0], line2[:,1], c = 'k', lw = 3.5,alpha =0.5, ls = '--')\n",
    "\n",
    "###################### Axis, Spines, Ticks ##########################\n",
    "ax.spines['left'].set_position('center')\n",
    "ax.spines['right'].set_color('none')\n",
    "ax.spines['bottom'].set_position('center')\n",
    "ax.spines['top'].set_color('none')\n",
    "ax.xaxis.set_ticks_position('bottom')\n",
    "ax.yaxis.set_ticks_position('left')\n",
    "\n",
    "ax.minorticks_on()\n",
    "ax.tick_params(axis = 'both', direction = 'inout', length=12, width=2, which='major')\n",
    "ax.tick_params(axis = 'both', direction = 'inout', length=10, width=1, which='minor')\n",
    "\n",
    "ax.axis([-5, 5, -5, 5])\n",
    "ax.grid()"
   ]
  },
  {
   "cell_type": "markdown",
   "metadata": {},
   "source": [
    "使用SciPy内置函数，构建两个$2\\times 2$的矩阵来保存向量的头部和尾部坐标。"
   ]
  },
  {
   "cell_type": "code",
   "execution_count": 17,
   "metadata": {},
   "outputs": [],
   "source": [
    "a = np.array([[1, 4], [-2, 2]])\n",
    "b = np.array([[1, 4], [2, -2]])"
   ]
  },
  {
   "cell_type": "code",
   "execution_count": 18,
   "metadata": {},
   "outputs": [
    {
     "data": {
      "text/plain": [
       "array([3.60555128])"
      ]
     },
     "execution_count": 18,
     "metadata": {},
     "output_type": "execute_result"
    }
   ],
   "source": [
    "distance = sp.spatial.distance.pdist(a, 'euclidean'); distance"
   ]
  },
  {
   "cell_type": "code",
   "execution_count": 19,
   "metadata": {},
   "outputs": [
    {
     "data": {
      "text/plain": [
       "array([6.08276253])"
      ]
     },
     "execution_count": 19,
     "metadata": {},
     "output_type": "execute_result"
    }
   ],
   "source": [
    "distance = sp.spatial.distance.pdist(b, 'euclidean');distance"
   ]
  },
  {
   "cell_type": "markdown",
   "metadata": {},
   "source": [
    "使用NumPy的```.norm```函数进行验证。"
   ]
  },
  {
   "cell_type": "code",
   "execution_count": 20,
   "metadata": {},
   "outputs": [],
   "source": [
    "def dist(u, v):\n",
    "    a = np.linalg.norm(u - v)\n",
    "    return a"
   ]
  },
  {
   "cell_type": "code",
   "execution_count": 21,
   "metadata": {},
   "outputs": [
    {
     "data": {
      "image/png": "[encoded data removed]",
      "text/latex": [
       "$\\displaystyle 3.60555127546399$"
      ],
      "text/plain": [
       "3.605551275463989"
      ]
     },
     "execution_count": 21,
     "metadata": {},
     "output_type": "execute_result"
    }
   ],
   "source": [
    "u = np.array([1, 4])\n",
    "v = np.array([-2, 2])\n",
    "dist(u, v)"
   ]
  },
  {
   "cell_type": "code",
   "execution_count": 22,
   "metadata": {},
   "outputs": [
    {
     "data": {
      "image/png": "[encoded data removed]",
      "text/latex": [
       "$\\displaystyle 6.08276253029822$"
      ],
      "text/plain": [
       "6.082762530298219"
      ]
     },
     "execution_count": 22,
     "metadata": {},
     "output_type": "execute_result"
    }
   ],
   "source": [
    "u = np.array([1, 4])\n",
    "v = np.array([2, -2])\n",
    "dist(u, v)"
   ]
  },
  {
   "cell_type": "markdown",
   "metadata": {},
   "source": [
    "现在让我们测试向量$(2.5, 2.5)^T$是否与$(2, -2)^T$和$(-2, 2)^T$垂直。"
   ]
  },
  {
   "cell_type": "code",
   "execution_count": 23,
   "metadata": {},
   "outputs": [],
   "source": [
    "a = np.array([[2.5, 2.5], [-2, 2]])\n",
    "b = np.array([[2.5, 2.5], [2, -2]])\n",
    "distance1 = sp.spatial.distance.pdist(a, 'euclidean')\n",
    "distance2 = sp.spatial.distance.pdist(b, 'euclidean')"
   ]
  },
  {
   "cell_type": "code",
   "execution_count": 24,
   "metadata": {},
   "outputs": [
    {
     "name": "stdout",
     "output_type": "stream",
     "text": [
      "[4.52769257] [4.52769257]\n"
     ]
    }
   ],
   "source": [
    "print(distance1, distance2)"
   ]
  },
  {
   "cell_type": "markdown",
   "metadata": {},
   "source": [
    "它们长度相同，这意味着$\\mathbf{w}\\perp \\mathbf{v}$和$\\mathbf{w}\\perp \\mathbf{-v}$。"
   ]
  },
  {
   "cell_type": "markdown",
   "metadata": {},
   "source": [
    "## <font face=\"gotham\" color=\"purple\"> 正交补</font>"
   ]
  },
  {
   "cell_type": "markdown",
   "metadata": {},
   "source": [
    "一般来说，所有与子空间$W$正交的向量$\\mathbf{z}$的集合被称为<font face=\"gotham\" color=\"red\">正交补</font>，或表示为$W^\\perp$。"
   ]
  },
  {
   "cell_type": "markdown",
   "metadata": {},
   "source": [
    "最常见的例子是\n",
    "\n",
    "$$(\\operatorname{Row} A)^{\\perp}=\\operatorname{Nul} A \\quad \\text { and } \\quad(\\operatorname{Col} A)^{\\perp}=\\operatorname{Nul} A^{T}$$\n",
    "\n",
    "矩阵$A$的零空间与$A$的行空间正交；$A^T$的零空间与$A$的列空间正交。"
   ]
  },
  {
   "cell_type": "markdown",
   "metadata": {},
   "source": [
    "# <font face=\"gotham\" color=\"purple\"> 在$\\mathbb{R}^n$中的角度</font>"
   ]
  },
  {
   "cell_type": "markdown",
   "metadata": {},
   "source": [
    "在向量空间中计算角度的一个公式，我们需要用到余弦定理：\n",
    "\n",
    "$$\\|\\mathbf{u}-\\mathbf{v}\\|^{2}=\\|\\mathbf{u}\\|^{2}+\\|\\mathbf{v}\\|^{2}-2\\|\\mathbf{u}\\|\\|\\mathbf{v}\\| \\cos \\vartheta$$"
   ]
  },
  {
   "cell_type": "markdown",
   "metadata": {},
   "source": [
    "重排后，我们得到\n",
    "\n",
    "$$\\begin{aligned}\n",
    "\\|\\mathbf{u}\\|\\|\\mathbf{v}\\| \\cos \\vartheta &=\\frac{1}{2}\\left[\\|\\mathbf{u}\\|^{2}+\\|\\mathbf{v}\\|^{2}-\\|\\mathbf{u}-\\mathbf{v}\\|^{2}\\right] \\\\\n",
    "&=\\frac{1}{2}\\left[u_{1}^{2}+u_{2}^{2}+v_{1}^{2}+v_{2}^{2}-\\left(u_{1}-v_{1}\\right)^{2}-\\left(u_{2}-v_{2}\\right)^{2}\\right] \\\\\n",
    "&=u_{1} v_{1}+u_{2} v_{2} \\\\\n",
    "&=\\mathbf{u} \\cdot \\mathbf{v}\n",
    "\\end{aligned}$$"
   ]
  },
  {
   "cell_type": "markdown",
   "metadata": {},
   "source": [
    "在统计学中，$\\cos{\\vartheta}$被称为<font face=\"gotham\" color=\"red\">相关系数</font>。\n",
    "\n",
    "$$\n",
    "\\cos{\\vartheta}=\\frac{\\mathbf{u} \\cdot \\mathbf{v}}{\\|\\mathbf{u}\\|\\|\\mathbf{v}\\|}\n",
    "$$"
   ]
  },
  {
   "cell_type": "markdown",
   "metadata": {},
   "source": [
    "## <font face=\"gotham\" color=\"purple\"> 点积的几何解释</font>"
   ]
  },
  {
   "cell_type": "markdown",
   "metadata": {},
   "source": [
    "你可能注意到有时候<i>点积</i>和<i>内积</i>这两个术语会互换使用。尽管如此，它们确实有不同的含义。\n",
    "\n",
    "函数和多项式也可以有内积，但我们通常用点积来指代向量空间中的内积。\n",
    "\n",
    "我们将展示点积具有一个有趣的几何解释。"
   ]
  },
  {
   "cell_type": "markdown",
   "metadata": {},
   "source": [
    "考虑两个向量$\\mathbf{a}$和$\\mathbf{u}$，它们指向不同的方向，它们之间形成的角度是$\\vartheta$，同时$\\mathbf{u}$是一个单位向量。我们想知道$\\mathbf{a}$指向$\\mathbf{u}$方向的程度。\n",
    "\n",
    "这个值可以通过将$\\mathbf{a}$投影到$\\mathbf{u}$上来计算。\n",
    "\n",
    "$$\n",
    " \\|\\mathbf{a}\\|\\cos{\\vartheta}=\\|\\mathbf{a}\\| \\|\\mathbf{u}\\|\\cos{\\vartheta} = \\mathbf{a} \\cdot\\mathbf{u} \n",
    "$$"
   ]
  },
  {
   "cell_type": "markdown",
   "metadata": {},
   "source": [
    "任何向量$\\mathbf{b}$都可以被标准化为一个单位向量$\\mathbf{u}$，然后执行上述计算，我们可以确定$\\mathbf{b}$指向$\\mathbf{u}$方向的程度。"
   ]
  },
  {
   "cell_type": "markdown",
   "metadata": {},
   "source": [
    "# <font face=\"gotham\" color=\"purple\"> 正交集</font>"
   ]
  },
  {
   "cell_type": "markdown",
   "metadata": {},
   "source": [
    "如果$\\mathbb{R}^{n}$中的一组向量$S = \\left\\{\\mathbf{u}_{1}, \\ldots, \\mathbf{u}_{p}\\right\\}$ 中的任意一对向量都是正交的，即当$i \\neq j$时$\\mathbf{u}_{i} \\cdot \\mathbf{u}_{j}=0$，那么$S =\\left\\{\\mathbf{u}_{1}, \\ldots, \\mathbf{u}_{p}\\right\\}$ 被称为<font face=\"gotham\" color=\"red\">正交集</font>。"
   ]
  },
  {
   "cell_type": "markdown",
   "metadata": {},
   "source": [
    "自然地，正交集$S$是线性无关的，它们也是由$\\left\\{\\mathbf{u}_{1}, \\ldots, \\mathbf{u}_{p}\\right\\}$张成的空间的<font face=\"gotham\" color=\"red\">正交基</font>。正交基的优势在于可以快速计算基向量的坐标。"
   ]
  },
  {
   "cell_type": "markdown",
   "metadata": {},
   "source": [
    "例如，对于$W$中的任意向量$\\mathbf{y}$，\n",
    "\n",
    "$$\n",
    "\\mathbf{y}=c_{1} \\mathbf{u}_{1}+\\cdots+c_{p} \\mathbf{u}_{p}\n",
    "$$\n",
    "\n",
    "因为它是一个正交集，\n",
    "\n",
    "$$\n",
    "\\mathbf{y} \\cdot \\mathbf{u}_{1}=\\left(c_{1} \\mathbf{u}_{1}+c_{2} \\mathbf{u}_{2}+\\cdots+c_{p} \\mathbf{u}_{p}\\right) \\cdot \\mathbf{u}_{1}=c_{1}\\left(\\mathbf{u}_{1} \\cdot \\mathbf{u}_{1}\\right)\n",
    "$$\n",
    "\n",
    "因此\n",
    "\n",
    "$$c_{j}=\\frac{\\mathbf{y} \\cdot \\mathbf{u}_{j}}{\\mathbf{u}_{j} \\cdot \\mathbf{u}_{j}} \\quad(j=1, \\ldots, p)$$"
   ]
  },
  {
   "cell_type": "markdown",
   "metadata": {},
   "source": [
    "# <font face=\"gotham\" color=\"purple\">正交投影</font>"
   ]
  },
  {
   "cell_type": "markdown",
   "metadata": {},
   "source": [
    "对于$\\mathbb{R}^n$中的任意向量$\\mathbf{y}$，我们希望将其分解为\n",
    "\n",
    "$$\n",
    "\\mathbf{y} = \\alpha \\mathbf{u}+\\mathbf{z} = \\hat{\\mathbf{y}}+\\mathbf{z}\n",
    "$$"
   ]
  },
  {
   "cell_type": "markdown",
   "metadata": {},
   "source": [
    "其中$\\mathbf{u}$与$\\mathbf{z}$垂直，$\\alpha$是一个标量。由$\\mathbf{u}$张成的子空间$L$上的$\\mathbf{y}$的投影表示为\n",
    "\n",
    "$$\\hat{\\mathbf{y}}=\\operatorname{proj}_{L} \\mathbf{y}=\\frac{\\mathbf{y} \\cdot \\mathbf{u}}{\\mathbf{u} \\cdot \\mathbf{u}} \\mathbf{u}$$"
   ]
  },
  {
   "cell_type": "markdown",
   "metadata": {},
   "source": [
    "因为$\\mathbf{u}\\perp \\mathbf{z}$，所以$\\mathbf{u}\\cdot \\mathbf{z} = 0$，将$\\mathbf{z}$替换为$\\mathbf{y}- \\alpha \\mathbf{u}$：\n",
    "\n",
    "$$\n",
    "(\\mathbf{y}- \\alpha \\mathbf{u})\\cdot \\mathbf{u}= 0\\\\\n",
    "\\alpha = \\frac{\\mathbf{y}\\cdot \\mathbf{u}}{\\mathbf{u}\\cdot \\mathbf{u}}\n",
    "$$"
   ]
  },
  {
   "cell_type": "markdown",
   "metadata": {},
   "source": [
    "现在我们得到了投影到由$\\mathbf{u}$张成的$L$的公式。"
   ]
  },
  {
   "cell_type": "markdown",
   "metadata": {},
   "source": [
    "## <font face=\"gotham\" color=\"purple\"> 一个在$\\mathbb{R}^T$中的视觉示例</font>"
   ]
  },
  {
   "cell_type": "markdown",
   "metadata": {},
   "source": [
    "假设我们有$\\mathbf{y} = (2, 5)^T$，$\\mathbf{u} = (3, 1)^T$。将$\\hat{\\mathbf{y}}$投影到由$\\mathbf{u}$张成的子空间$L$上。"
   ]
  },
  {
   "cell_type": "code",
   "execution_count": 25,
   "metadata": {},
   "outputs": [
    {
     "name": "stderr",
     "output_type": "stream",
     "text": [
      "<>:6: SyntaxWarning: invalid escape sequence '\\m'\n",
      "<>:6: SyntaxWarning: invalid escape sequence '\\m'\n",
      "<>:21: SyntaxWarning: invalid escape sequence '\\o'\n",
      "<>:6: SyntaxWarning: invalid escape sequence '\\m'\n",
      "<>:6: SyntaxWarning: invalid escape sequence '\\m'\n",
      "<>:21: SyntaxWarning: invalid escape sequence '\\o'\n",
      "C:\\Users\\cyy\\AppData\\Local\\Temp\\ipykernel_44336\\1638507684.py:6: SyntaxWarning: invalid escape sequence '\\m'\n",
      "  vec_name = ['$\\mathbf{y}$', '$\\mathbf{u}$']\n",
      "C:\\Users\\cyy\\AppData\\Local\\Temp\\ipykernel_44336\\1638507684.py:6: SyntaxWarning: invalid escape sequence '\\m'\n",
      "  vec_name = ['$\\mathbf{y}$', '$\\mathbf{u}$']\n",
      "C:\\Users\\cyy\\AppData\\Local\\Temp\\ipykernel_44336\\1638507684.py:21: SyntaxWarning: invalid escape sequence '\\o'\n",
      "  ax.text(x = 6.5, y = 3, s = '$L = \\operatorname{Span(\\mathbf{u})}$', size = 19)\n"
     ]
    },
    {
     "data": {
      "image/png": "[encoded data removed]",
      "text/plain": [
       "<Figure size 1200x1200 with 1 Axes>"
      ]
     },
     "metadata": {},
     "output_type": "display_data"
    }
   ],
   "source": [
    "fig, ax = plt.subplots(figsize = (12, 12))\n",
    "\n",
    "vects = np.array([[4, 5], [2, 1]])\n",
    "colr = ['red', 'blue'] \n",
    "cordt = ['$(4, 5)$', '$(2, 1)$']\n",
    "vec_name = ['$\\mathbf{y}$', '$\\mathbf{u}$']\n",
    "\n",
    "for i in range(2):\n",
    "    ax.arrow(0, 0, vects[i][0], vects[i][1], color = colr[i], width = .03, \n",
    "             length_includes_head = True,\n",
    "             head_width = .1, # default: 3*width\n",
    "             head_length = .2,\n",
    "             overhang = .4)\n",
    "    ax.text(x = vects[i][0], y = vects[i][1], s = cordt[i], size = 15)\n",
    "    ax.text(x = vects[i][0]/2, y = vects[i][1]/2, s = vec_name[i], size = 22)\n",
    "\n",
    "################################### Subspace L ############################\n",
    "x = np.linspace(0, 8.1)\n",
    "y = 1/2*x\n",
    "ax.plot(x, y, lw = 3, color = 'red', alpha = .5)\n",
    "ax.text(x = 6.5, y = 3, s = '$L = \\operatorname{Span(\\mathbf{u})}$', size = 19)\n",
    "\n",
    "ax.axis([0, 8, 0, 8])\n",
    "ax.grid()"
   ]
  },
  {
   "cell_type": "markdown",
   "metadata": {},
   "source": [
    "让我们使用公式来计算$\\alpha$和$\\hat{\\mathbf{y}}$。"
   ]
  },
  {
   "cell_type": "code",
   "execution_count": 26,
   "metadata": {},
   "outputs": [
    {
     "data": {
      "image/png": "[encoded data removed]",
      "text/latex": [
       "$\\displaystyle 2.6$"
      ],
      "text/plain": [
       "2.6"
      ]
     },
     "execution_count": 26,
     "metadata": {},
     "output_type": "execute_result"
    }
   ],
   "source": [
    "y = np.array([4, 5])\n",
    "u = np.array([2, 1])\n",
    "alpha = (y@u)/(u@u);alpha"
   ]
  },
  {
   "cell_type": "code",
   "execution_count": 27,
   "metadata": {},
   "outputs": [
    {
     "data": {
      "text/plain": [
       "array([5.2, 2.6])"
      ]
     },
     "execution_count": 27,
     "metadata": {},
     "output_type": "execute_result"
    }
   ],
   "source": [
    "yhat = alpha*u;yhat"
   ]
  },
  {
   "cell_type": "markdown",
   "metadata": {},
   "source": [
    "根据上述结果，我们可以绘制出正交投影。"
   ]
  },
  {
   "cell_type": "code",
   "execution_count": 28,
   "metadata": {},
   "outputs": [
    {
     "name": "stderr",
     "output_type": "stream",
     "text": [
      "<>:6: SyntaxWarning: invalid escape sequence '\\m'\n",
      "<>:6: SyntaxWarning: invalid escape sequence '\\m'\n",
      "<>:23: SyntaxWarning: invalid escape sequence '\\m'\n",
      "<>:28: SyntaxWarning: invalid escape sequence '\\o'\n",
      "<>:6: SyntaxWarning: invalid escape sequence '\\m'\n",
      "<>:6: SyntaxWarning: invalid escape sequence '\\m'\n",
      "<>:23: SyntaxWarning: invalid escape sequence '\\m'\n",
      "<>:28: SyntaxWarning: invalid escape sequence '\\o'\n",
      "C:\\Users\\cyy\\AppData\\Local\\Temp\\ipykernel_44336\\1677987810.py:6: SyntaxWarning: invalid escape sequence '\\m'\n",
      "  vec_name = ['$\\mathbf{y}$', '$\\mathbf{u}$', r'$\\hat{\\mathbf{y}} = \\alpha\\mathbf{u}$']\n",
      "C:\\Users\\cyy\\AppData\\Local\\Temp\\ipykernel_44336\\1677987810.py:6: SyntaxWarning: invalid escape sequence '\\m'\n",
      "  vec_name = ['$\\mathbf{y}$', '$\\mathbf{u}$', r'$\\hat{\\mathbf{y}} = \\alpha\\mathbf{u}$']\n",
      "C:\\Users\\cyy\\AppData\\Local\\Temp\\ipykernel_44336\\1677987810.py:23: SyntaxWarning: invalid escape sequence '\\m'\n",
      "  ax.text(4.7, 3.8, '$\\mathbf{z}$', size = 22)\n",
      "C:\\Users\\cyy\\AppData\\Local\\Temp\\ipykernel_44336\\1677987810.py:28: SyntaxWarning: invalid escape sequence '\\o'\n",
      "  ax.text(x = 6.5, y = 3, s = '$L = \\operatorname{Span(\\mathbf{u})}$', size = 19)\n"
     ]
    },
    {
     "data": {
      "image/png": "[encoded data removed]",
      "text/plain": [
       "<Figure size 1200x1200 with 1 Axes>"
      ]
     },
     "metadata": {},
     "output_type": "display_data"
    }
   ],
   "source": [
    "fig, ax = plt.subplots(figsize = (12, 12))\n",
    "\n",
    "vects = np.array([[4, 5], [2, 1], [5.2, 2.6]])\n",
    "colr = ['red', 'blue', 'green'] \n",
    "cordt = ['$(4, 5)$', '$(2, 1)$', '(5.2, 2.6)']\n",
    "vec_name = ['$\\mathbf{y}$', '$\\mathbf{u}$', r'$\\hat{\\mathbf{y}} = \\alpha\\mathbf{u}$']\n",
    "\n",
    "for i in range(3):\n",
    "    ax.arrow(0, 0, vects[i][0], vects[i][1], color = colr[i], width = .03, \n",
    "             length_includes_head = True,\n",
    "             head_width = .1, # default: 3*width\n",
    "             head_length = .2,\n",
    "             overhang = .4, zorder = -i)\n",
    "    ax.text(x = vects[i][0], y = vects[i][1], s = cordt[i], size = 19)\n",
    "    ax.text(x = vects[i][0]/2, y = vects[i][1]/2, s = vec_name[i], size = 22)\n",
    "\n",
    "##################################### Components of y orthogonal to u ##########################\n",
    "\n",
    "point1 = [4, 5]\n",
    "point2 = [5.2, 2.6]\n",
    "line1 = np.array([point1, point2])\n",
    "ax.plot(line1[:,0], line1[:,1], c = 'k', lw = 3.5,alpha =0.5, ls = '--')\n",
    "ax.text(4.7, 3.8, '$\\mathbf{z}$', size = 22)\n",
    "################################### Subspace L ############################\n",
    "x = np.linspace(0, 8.1)\n",
    "y = 1/2*x\n",
    "ax.plot(x, y, lw = 3, color = 'red', alpha = .5, zorder = -3)\n",
    "ax.text(x = 6.5, y = 3, s = '$L = \\operatorname{Span(\\mathbf{u})}$', size = 19)\n",
    "\n",
    "ax.axis([0, 8, 0, 8])\n",
    "ax.grid()\n",
    "\n",
    "#################################### Formula ################################\n",
    "ax.text(x = 1, y = 7, \n",
    "        s = r'$(\\mathbf{y}- \\alpha \\mathbf{u})\\cdot \\mathbf{u}= 0$',\n",
    "        size = 22, color = 'b')\n",
    "ax.text(x = 1, y = 6.5, \n",
    "        s = r'$\\alpha = \\frac{\\mathbf{y}\\cdot \\mathbf{u}}{\\mathbf{u}\\cdot \\mathbf{u}}$',\n",
    "        size = 22, color = 'b')\n",
    "ax.text(x = 1, y = 6, \n",
    "        s = r'$\\operatorname{proj}_{L}\\mathbf{y}=\\frac{\\mathbf{y}\\cdot\\mathbf{u}}{\\mathbf{u}\\cdot\\mathbf{u}}\\mathbf{u}$',\n",
    "        size = 22, color = 'b')\n",
    "plt.show()"
   ]
  },
  {
   "cell_type": "markdown",
   "metadata": {},
   "source": [
    "## <font face=\"gotham\" color=\"purple\"> 正交分解定理</font>"
   ]
  },
  {
   "cell_type": "markdown",
   "metadata": {},
   "source": [
    "为了将正交投影推广到更高维度的$\\mathbb{R}^n$，我们将这个思想总结为<font face=\"gotham\" color=\"red\">正交分解定理</font>。\n",
    "\n",
    "设$W$是$\\mathbb{R}^{n}$的一个子空间。那么$\\mathbb{R}^{n}$中的每个向量$\\mathbf{y}$都可以唯一地写成如下形式：\n",
    "$$\n",
    "\\mathbf{y}=\\hat{\\mathbf{y}}+\\mathbf{z}\n",
    "$$\n",
    "其中$\\hat{\\mathbf{y}}$在$W$中，$\\mathbf{z}$在$W^{\\perp}$中。事实上，如果$\\left\\{\\mathbf{u}_{1}, \\ldots, \\mathbf{u}_{p}\\right\\}$是$W$的任意正交基，那么\n",
    "$$\n",
    "\\hat{\\mathbf{y}}=\\frac{\\mathbf{y} \\cdot \\mathbf{u}_{1}}{\\mathbf{u}_{1} \\cdot \\mathbf{u}_{1}} \\mathbf{u}_{1}+\\cdots+\\frac{\\mathbf{y} \\cdot \\mathbf{u}_{p}}{\\mathbf{u}_{p} \\cdot \\mathbf{u}_{p}} \\mathbf{u}_{p}\n",
    "$$\n",
    "而$\\mathbf{z}=\\mathbf{y}-\\hat{\\mathbf{y}}$。"
   ]
  },
  {
   "cell_type": "markdown",
   "metadata": {},
   "source": [
    "在$\\mathbb{R}^{2}$中，我们将$\\mathbf{y}$投影到由$\\mathbf{u}$张成的子空间$L$上，这里我们将公式推广到$\\mathbb{R}^{n}$，即将$\\mathbf{y}$投影到由$\\left\\{\\mathbf{u}_{1}, \\ldots, \\mathbf{u}_{p}\\right\\}$张成的$W$上。"
   ]
  },
  {
   "cell_type": "markdown",
   "metadata": {},
   "source": [
    "## <font face=\"gotham\" color=\"purple\"> $\\mathbb{R}^{3}$中的一个视觉示例</font>"
   ]
  },
  {
   "cell_type": "markdown",
   "metadata": {},
   "source": [
    "一个子空间$W=\\operatorname{Span}\\left\\{\\mathbf{u}_{1}, \\mathbf{u}_{2}\\right\\}$，以及一个向量$\\mathbf{y}$不在$W$中，将$\\mathbf{y}$分解为$\\hat{\\mathbf{y}} + \\mathbf{z}$，并绘制它们。\n",
    "\n",
    "其中\n",
    "\n",
    "$$\\mathbf{u}_{1}=\\left[\\begin{array}{r}\n",
    "2 \\\\\n",
    "5 \\\\\n",
    "-1\n",
    "\\end{array}\\right], \\mathbf{u}_{2}=\\left[\\begin{array}{r}\n",
    "-2 \\\\\n",
    "1 \\\\\n",
    "1\n",
    "\\end{array}\\right], \\text { and } \\mathbf{y}=\\left[\\begin{array}{l}\n",
    "1 \\\\\n",
    "2 \\\\\n",
    "3\n",
    "\\end{array}\\right]$$"
   ]
  },
  {
   "cell_type": "markdown",
   "metadata": {},
   "source": [
    "在$\\mathbb{R}^3$中，投影到$W$上\n",
    "\n",
    "$$\n",
    "\\hat{\\mathbf{y}}=\\frac{\\mathbf{y} \\cdot \\mathbf{u}_{1}}{\\mathbf{u}_{1} \\cdot \\mathbf{u}_{1}} \\mathbf{u}_{1}+\\frac{\\mathbf{y} \\cdot \\mathbf{u}_{2}}{\\mathbf{u}_{2} \\cdot \\mathbf{u}_{2}} \\mathbf{u}_{2}=\\hat{\\mathbf{y}}_{1}+\\hat{\\mathbf{y}}_{2}\n",
    "$$"
   ]
  },
  {
   "cell_type": "markdown",
   "metadata": {},
   "source": [
    "绘图的代码相当冗长，但非常直观。"
   ]
  },
  {
   "cell_type": "code",
   "execution_count": 29,
   "metadata": {},
   "outputs": [
    {
     "name": "stderr",
     "output_type": "stream",
     "text": [
      "<>:25: SyntaxWarning: invalid escape sequence '\\m'\n",
      "<>:39: SyntaxWarning: invalid escape sequence '\\m'\n",
      "<>:40: SyntaxWarning: invalid escape sequence '\\m'\n",
      "<>:65: SyntaxWarning: invalid escape sequence '\\h'\n",
      "<>:66: SyntaxWarning: invalid escape sequence '\\h'\n",
      "<>:25: SyntaxWarning: invalid escape sequence '\\m'\n",
      "<>:39: SyntaxWarning: invalid escape sequence '\\m'\n",
      "<>:40: SyntaxWarning: invalid escape sequence '\\m'\n",
      "<>:65: SyntaxWarning: invalid escape sequence '\\h'\n",
      "<>:66: SyntaxWarning: invalid escape sequence '\\h'\n",
      "C:\\Users\\cyy\\AppData\\Local\\Temp\\ipykernel_44336\\3817871951.py:25: SyntaxWarning: invalid escape sequence '\\m'\n",
      "  ax.text(y[0], y[1], y[2], '$\\mathbf{y}$', size = 15)\n",
      "C:\\Users\\cyy\\AppData\\Local\\Temp\\ipykernel_44336\\3817871951.py:39: SyntaxWarning: invalid escape sequence '\\m'\n",
      "  ax.text(u1[0], u1[1], u1[2], '$\\mathbf{u}_1$', size = 15)\n",
      "C:\\Users\\cyy\\AppData\\Local\\Temp\\ipykernel_44336\\3817871951.py:40: SyntaxWarning: invalid escape sequence '\\m'\n",
      "  ax.text(u2[0], u2[1], u2[2], '$\\mathbf{u}_2$', size = 15)\n",
      "C:\\Users\\cyy\\AppData\\Local\\Temp\\ipykernel_44336\\3817871951.py:65: SyntaxWarning: invalid escape sequence '\\h'\n",
      "  ax.text(yhat1[0], yhat1[1], yhat1[2], '$\\hat{\\mathbf{y}}_1$', size = 15)\n",
      "C:\\Users\\cyy\\AppData\\Local\\Temp\\ipykernel_44336\\3817871951.py:66: SyntaxWarning: invalid escape sequence '\\h'\n",
      "  ax.text(yhat2[0], yhat2[1], yhat2[2], '$\\hat{\\mathbf{y}}_2$', size = 15)\n"
     ]
    },
    {
     "data": {
      "application/javascript": "/* Put everything inside the global mpl namespace */\n/* global mpl */\nwindow.mpl = {};\n\nmpl.get_websocket_type = function () {\n    if (typeof WebSocket !== 'undefined') {\n        return WebSocket;\n    } else if (typeof MozWebSocket !== 'undefined') {\n        return MozWebSocket;\n    } else {\n        alert(\n            'Your browser does not have WebSocket support. ' +\n                'Please try Chrome, Safari or Firefox ≥ 6. ' +\n                'Firefox 4 and 5 are also supported but you ' +\n                'have to enable WebSockets in about:config.'\n        );\n    }\n};\n\nmpl.figure = function (figure_id, websocket, ondownload, parent_element) {\n    this.id = figure_id;\n\n    this.ws = websocket;\n\n    this.supports_binary = this.ws.binaryType !== undefined;\n\n    if (!this.supports_binary) {\n        var warnings = document.getElementById('mpl-warnings');\n        if (warnings) {\n            warnings.style.display = 'block';\n            warnings.textContent =\n                'This browser does not support binary websocket messages. ' +\n                'Performance may be slow.';\n        }\n    }\n\n    this.imageObj = new Image();\n\n    this.context = undefined;\n    this.message = undefined;\n    this.canvas = undefined;\n    this.rubberband_canvas = undefined;\n    this.rubberband_context = undefined;\n    this.format_dropdown = undefined;\n\n    this.image_mode = 'full';\n\n    this.root = document.createElement('div');\n    this.root.setAttribute('style', 'display: inline-block');\n    this._root_extra_style(this.root);\n\n    parent_element.appendChild(this.root);\n\n    this._init_header(this);\n    this._init_canvas(this);\n    this._init_toolbar(this);\n\n    var fig = this;\n\n    this.waiting = false;\n\n    this.ws.onopen = function () {\n        fig.send_message('supports_binary', { value: fig.supports_binary });\n        fig.send_message('send_image_mode', {});\n        if (fig.ratio !== 1) {\n            fig.send_message('set_device_pixel_ratio', {\n                device_pixel_ratio: fig.ratio,\n            });\n        }\n        fig.send_message('refresh', {});\n    };\n\n    this.imageObj.onload = function () {\n        if (fig.image_mode === 'full') {\n            // Full images could contain transparency (where diff images\n            // almost always do), so we need to clear the canvas so that\n            // there is no ghosting.\n            fig.context.clearRect(0, 0, fig.canvas.width, fig.canvas.height);\n        }\n        fig.context.drawImage(fig.imageObj, 0, 0);\n    };\n\n    this.imageObj.onunload = function () {\n        fig.ws.close();\n    };\n\n    this.ws.onmessage = this._make_on_message_function(this);\n\n    this.ondownload = ondownload;\n};\n\nmpl.figure.prototype._init_header = function () {\n    var titlebar = document.createElement('div');\n    titlebar.classList =\n        'ui-dialog-titlebar ui-widget-header ui-corner-all ui-helper-clearfix';\n    var titletext = document.createElement('div');\n    titletext.classList = 'ui-dialog-title';\n    titletext.setAttribute(\n        'style',\n        'width: 100%; text-align: center; padding: 3px;'\n    );\n    titlebar.appendChild(titletext);\n    this.root.appendChild(titlebar);\n    this.header = titletext;\n};\n\nmpl.figure.prototype._canvas_extra_style = function (_canvas_div) {};\n\nmpl.figure.prototype._root_extra_style = function (_canvas_div) {};\n\nmpl.figure.prototype._init_canvas = function () {\n    var fig = this;\n\n    var canvas_div = (this.canvas_div = document.createElement('div'));\n    canvas_div.setAttribute('tabindex', '0');\n    canvas_div.setAttribute(\n        'style',\n        'border: 1px solid #ddd;' +\n            'box-sizing: content-box;' +\n            'clear: both;' +\n            'min-height: 1px;' +\n            'min-width: 1px;' +\n            'outline: 0;' +\n            'overflow: hidden;' +\n            'position: relative;' +\n            'resize: both;' +\n            'z-index: 2;'\n    );\n\n    function on_keyboard_event_closure(name) {\n        return function (event) {\n            return fig.key_event(event, name);\n        };\n    }\n\n    canvas_div.addEventListener(\n        'keydown',\n        on_keyboard_event_closure('key_press')\n    );\n    canvas_div.addEventListener(\n        'keyup',\n        on_keyboard_event_closure('key_release')\n    );\n\n    this._canvas_extra_style(canvas_div);\n    this.root.appendChild(canvas_div);\n\n    var canvas = (this.canvas = document.createElement('canvas'));\n    canvas.classList.add('mpl-canvas');\n    canvas.setAttribute(\n        'style',\n        'box-sizing: content-box;' +\n            'pointer-events: none;' +\n            'position: relative;' +\n            'z-index: 0;'\n    );\n\n    this.context = canvas.getContext('2d');\n\n    var backingStore =\n        this.context.backingStorePixelRatio ||\n        this.context.webkitBackingStorePixelRatio ||\n        this.context.mozBackingStorePixelRatio ||\n        this.context.msBackingStorePixelRatio ||\n        this.context.oBackingStorePixelRatio ||\n        this.context.backingStorePixelRatio ||\n        1;\n\n    this.ratio = (window.devicePixelRatio || 1) / backingStore;\n\n    var rubberband_canvas = (this.rubberband_canvas = document.createElement(\n        'canvas'\n    ));\n    rubberband_canvas.setAttribute(\n        'style',\n        'box-sizing: content-box;' +\n            'left: 0;' +\n            'pointer-events: none;' +\n            'position: absolute;' +\n            'top: 0;' +\n            'z-index: 1;'\n    );\n\n    // Apply a ponyfill if ResizeObserver is not implemented by browser.\n    if (this.ResizeObserver === undefined) {\n        if (window.ResizeObserver !== undefined) {\n            this.ResizeObserver = window.ResizeObserver;\n        } else {\n            var obs = _JSXTOOLS_RESIZE_OBSERVER({});\n            this.ResizeObserver = obs.ResizeObserver;\n        }\n    }\n\n    this.resizeObserverInstance = new this.ResizeObserver(function (entries) {\n        var nentries = entries.length;\n        for (var i = 0; i < nentries; i++) {\n            var entry = entries[i];\n            var width, height;\n            if (entry.contentBoxSize) {\n                if (entry.contentBoxSize instanceof Array) {\n                    // Chrome 84 implements new version of spec.\n                    width = entry.contentBoxSize[0].inlineSize;\n                    height = entry.contentBoxSize[0].blockSize;\n                } else {\n                    // Firefox implements old version of spec.\n                    width = entry.contentBoxSize.inlineSize;\n                    height = entry.contentBoxSize.blockSize;\n                }\n            } else {\n                // Chrome <84 implements even older version of spec.\n                width = entry.contentRect.width;\n                height = entry.contentRect.height;\n            }\n\n            // Keep the size of the canvas and rubber band canvas in sync with\n            // the canvas container.\n            if (entry.devicePixelContentBoxSize) {\n                // Chrome 84 implements new version of spec.\n                canvas.setAttribute(\n                    'width',\n                    entry.devicePixelContentBoxSize[0].inlineSize\n                );\n                canvas.setAttribute(\n                    'height',\n                    entry.devicePixelContentBoxSize[0].blockSize\n                );\n            } else {\n                canvas.setAttribute('width', width * fig.ratio);\n                canvas.setAttribute('height', height * fig.ratio);\n            }\n            /* This rescales the canvas back to display pixels, so that it\n             * appears correct on HiDPI screens. */\n            canvas.style.width = width + 'px';\n            canvas.style.height = height + 'px';\n\n            rubberband_canvas.setAttribute('width', width);\n            rubberband_canvas.setAttribute('height', height);\n\n            // And update the size in Python. We ignore the initial 0/0 size\n            // that occurs as the element is placed into the DOM, which should\n            // otherwise not happen due to the minimum size styling.\n            if (fig.ws.readyState == 1 && width != 0 && height != 0) {\n                fig.request_resize(width, height);\n            }\n        }\n    });\n    this.resizeObserverInstance.observe(canvas_div);\n\n    function on_mouse_event_closure(name) {\n        /* User Agent sniffing is bad, but WebKit is busted:\n         * https://bugs.webkit.org/show_bug.cgi?id=144526\n         * https://bugs.webkit.org/show_bug.cgi?id=181818\n         * The worst that happens here is that they get an extra browser\n         * selection when dragging, if this check fails to catch them.\n         */\n        var UA = navigator.userAgent;\n        var isWebKit = /AppleWebKit/.test(UA) && !/Chrome/.test(UA);\n        if(isWebKit) {\n            return function (event) {\n                /* This prevents the web browser from automatically changing to\n                 * the text insertion cursor when the button is pressed. We\n                 * want to control all of the cursor setting manually through\n                 * the 'cursor' event from matplotlib */\n                event.preventDefault()\n                return fig.mouse_event(event, name);\n            };\n        } else {\n            return function (event) {\n                return fig.mouse_event(event, name);\n            };\n        }\n    }\n\n    canvas_div.addEventListener(\n        'mousedown',\n        on_mouse_event_closure('button_press')\n    );\n    canvas_div.addEventListener(\n        'mouseup',\n        on_mouse_event_closure('button_release')\n    );\n    canvas_div.addEventListener(\n        'dblclick',\n        on_mouse_event_closure('dblclick')\n    );\n    // Throttle sequential mouse events to 1 every 20ms.\n    canvas_div.addEventListener(\n        'mousemove',\n        on_mouse_event_closure('motion_notify')\n    );\n\n    canvas_div.addEventListener(\n        'mouseenter',\n        on_mouse_event_closure('figure_enter')\n    );\n    canvas_div.addEventListener(\n        'mouseleave',\n        on_mouse_event_closure('figure_leave')\n    );\n\n    canvas_div.addEventListener('wheel', function (event) {\n        if (event.deltaY < 0) {\n            event.step = 1;\n        } else {\n            event.step = -1;\n        }\n        on_mouse_event_closure('scroll')(event);\n    });\n\n    canvas_div.appendChild(canvas);\n    canvas_div.appendChild(rubberband_canvas);\n\n    this.rubberband_context = rubberband_canvas.getContext('2d');\n    this.rubberband_context.strokeStyle = '#000000';\n\n    this._resize_canvas = function (width, height, forward) {\n        if (forward) {\n            canvas_div.style.width = width + 'px';\n            canvas_div.style.height = height + 'px';\n        }\n    };\n\n    // Disable right mouse context menu.\n    canvas_div.addEventListener('contextmenu', function (_e) {\n        event.preventDefault();\n        return false;\n    });\n\n    function set_focus() {\n        canvas.focus();\n        canvas_div.focus();\n    }\n\n    window.setTimeout(set_focus, 100);\n};\n\nmpl.figure.prototype._init_toolbar = function () {\n    var fig = this;\n\n    var toolbar = document.createElement('div');\n    toolbar.classList = 'mpl-toolbar';\n    this.root.appendChild(toolbar);\n\n    function on_click_closure(name) {\n        return function (_event) {\n            return fig.toolbar_button_onclick(name);\n        };\n    }\n\n    function on_mouseover_closure(tooltip) {\n        return function (event) {\n            if (!event.currentTarget.disabled) {\n                return fig.toolbar_button_onmouseover(tooltip);\n            }\n        };\n    }\n\n    fig.buttons = {};\n    var buttonGroup = document.createElement('div');\n    buttonGroup.classList = 'mpl-button-group';\n    for (var toolbar_ind in mpl.toolbar_items) {\n        var name = mpl.toolbar_items[toolbar_ind][0];\n        var tooltip = mpl.toolbar_items[toolbar_ind][1];\n        var image = mpl.toolbar_items[toolbar_ind][2];\n        var method_name = mpl.toolbar_items[toolbar_ind][3];\n\n        if (!name) {\n            /* Instead of a spacer, we start a new button group. */\n            if (buttonGroup.hasChildNodes()) {\n                toolbar.appendChild(buttonGroup);\n            }\n            buttonGroup = document.createElement('div');\n            buttonGroup.classList = 'mpl-button-group';\n            continue;\n        }\n\n        var button = (fig.buttons[name] = document.createElement('button'));\n        button.classList = 'mpl-widget';\n        button.setAttribute('role', 'button');\n        button.setAttribute('aria-disabled', 'false');\n        button.addEventListener('click', on_click_closure(method_name));\n        button.addEventListener('mouseover', on_mouseover_closure(tooltip));\n\n        var icon_img = document.createElement('img');\n        icon_img.src = '_images/' + image + '.png';\n        icon_img.srcset = '_images/' + image + '_large.png 2x';\n        icon_img.alt = tooltip;\n        button.appendChild(icon_img);\n\n        buttonGroup.appendChild(button);\n    }\n\n    if (buttonGroup.hasChildNodes()) {\n        toolbar.appendChild(buttonGroup);\n    }\n\n    var fmt_picker = document.createElement('select');\n    fmt_picker.classList = 'mpl-widget';\n    toolbar.appendChild(fmt_picker);\n    this.format_dropdown = fmt_picker;\n\n    for (var ind in mpl.extensions) {\n        var fmt = mpl.extensions[ind];\n        var option = document.createElement('option');\n        option.selected = fmt === mpl.default_extension;\n        option.innerHTML = fmt;\n        fmt_picker.appendChild(option);\n    }\n\n    var status_bar = document.createElement('span');\n    status_bar.classList = 'mpl-message';\n    toolbar.appendChild(status_bar);\n    this.message = status_bar;\n};\n\nmpl.figure.prototype.request_resize = function (x_pixels, y_pixels) {\n    // Request matplotlib to resize the figure. Matplotlib will then trigger a resize in the client,\n    // which will in turn request a refresh of the image.\n    this.send_message('resize', { width: x_pixels, height: y_pixels });\n};\n\nmpl.figure.prototype.send_message = function (type, properties) {\n    properties['type'] = type;\n    properties['figure_id'] = this.id;\n    this.ws.send(JSON.stringify(properties));\n};\n\nmpl.figure.prototype.send_draw_message = function () {\n    if (!this.waiting) {\n        this.waiting = true;\n        this.ws.send(JSON.stringify({ type: 'draw', figure_id: this.id }));\n    }\n};\n\nmpl.figure.prototype.handle_save = function (fig, _msg) {\n    var format_dropdown = fig.format_dropdown;\n    var format = format_dropdown.options[format_dropdown.selectedIndex].value;\n    fig.ondownload(fig, format);\n};\n\nmpl.figure.prototype.handle_resize = function (fig, msg) {\n    var size = msg['size'];\n    if (size[0] !== fig.canvas.width || size[1] !== fig.canvas.height) {\n        fig._resize_canvas(size[0], size[1], msg['forward']);\n        fig.send_message('refresh', {});\n    }\n};\n\nmpl.figure.prototype.handle_rubberband = function (fig, msg) {\n    var x0 = msg['x0'] / fig.ratio;\n    var y0 = (fig.canvas.height - msg['y0']) / fig.ratio;\n    var x1 = msg['x1'] / fig.ratio;\n    var y1 = (fig.canvas.height - msg['y1']) / fig.ratio;\n    x0 = Math.floor(x0) + 0.5;\n    y0 = Math.floor(y0) + 0.5;\n    x1 = Math.floor(x1) + 0.5;\n    y1 = Math.floor(y1) + 0.5;\n    var min_x = Math.min(x0, x1);\n    var min_y = Math.min(y0, y1);\n    var width = Math.abs(x1 - x0);\n    var height = Math.abs(y1 - y0);\n\n    fig.rubberband_context.clearRect(\n        0,\n        0,\n        fig.canvas.width / fig.ratio,\n        fig.canvas.height / fig.ratio\n    );\n\n    fig.rubberband_context.strokeRect(min_x, min_y, width, height);\n};\n\nmpl.figure.prototype.handle_figure_label = function (fig, msg) {\n    // Updates the figure title.\n    fig.header.textContent = msg['label'];\n};\n\nmpl.figure.prototype.handle_cursor = function (fig, msg) {\n    fig.canvas_div.style.cursor = msg['cursor'];\n};\n\nmpl.figure.prototype.handle_message = function (fig, msg) {\n    fig.message.textContent = msg['message'];\n};\n\nmpl.figure.prototype.handle_draw = function (fig, _msg) {\n    // Request the server to send over a new figure.\n    fig.send_draw_message();\n};\n\nmpl.figure.prototype.handle_image_mode = function (fig, msg) {\n    fig.image_mode = msg['mode'];\n};\n\nmpl.figure.prototype.handle_history_buttons = function (fig, msg) {\n    for (var key in msg) {\n        if (!(key in fig.buttons)) {\n            continue;\n        }\n        fig.buttons[key].disabled = !msg[key];\n        fig.buttons[key].setAttribute('aria-disabled', !msg[key]);\n    }\n};\n\nmpl.figure.prototype.handle_navigate_mode = function (fig, msg) {\n    if (msg['mode'] === 'PAN') {\n        fig.buttons['Pan'].classList.add('active');\n        fig.buttons['Zoom'].classList.remove('active');\n    } else if (msg['mode'] === 'ZOOM') {\n        fig.buttons['Pan'].classList.remove('active');\n        fig.buttons['Zoom'].classList.add('active');\n    } else {\n        fig.buttons['Pan'].classList.remove('active');\n        fig.buttons['Zoom'].classList.remove('active');\n    }\n};\n\nmpl.figure.prototype.updated_canvas_event = function () {\n    // Called whenever the canvas gets updated.\n    this.send_message('ack', {});\n};\n\n// A function to construct a web socket function for onmessage handling.\n// Called in the figure constructor.\nmpl.figure.prototype._make_on_message_function = function (fig) {\n    return function socket_on_message(evt) {\n        if (evt.data instanceof Blob) {\n            var img = evt.data;\n            if (img.type !== 'image/png') {\n                /* FIXME: We get \"Resource interpreted as Image but\n                 * transferred with MIME type text/plain:\" errors on\n                 * Chrome.  But how to set the MIME type?  It doesn't seem\n                 * to be part of the websocket stream */\n                img.type = 'image/png';\n            }\n\n            /* Free the memory for the previous frames */\n            if (fig.imageObj.src) {\n                (window.URL || window.webkitURL).revokeObjectURL(\n                    fig.imageObj.src\n                );\n            }\n\n            fig.imageObj.src = (window.URL || window.webkitURL).createObjectURL(\n                img\n            );\n            fig.updated_canvas_event();\n            fig.waiting = false;\n            return;\n        } else if (\n            typeof evt.data === 'string' &&\n            evt.data.slice(0, 21) === 'data:image/png;base64'\n        ) {\n            fig.imageObj.src = evt.data;\n            fig.updated_canvas_event();\n            fig.waiting = false;\n            return;\n        }\n\n        var msg = JSON.parse(evt.data);\n        var msg_type = msg['type'];\n\n        // Call the  \"handle_{type}\" callback, which takes\n        // the figure and JSON message as its only arguments.\n        try {\n            var callback = fig['handle_' + msg_type];\n        } catch (e) {\n            console.log(\n                \"No handler for the '\" + msg_type + \"' message type: \",\n                msg\n            );\n            return;\n        }\n\n        if (callback) {\n            try {\n                // console.log(\"Handling '\" + msg_type + \"' message: \", msg);\n                callback(fig, msg);\n            } catch (e) {\n                console.log(\n                    \"Exception inside the 'handler_\" + msg_type + \"' callback:\",\n                    e,\n                    e.stack,\n                    msg\n                );\n            }\n        }\n    };\n};\n\nfunction getModifiers(event) {\n    var mods = [];\n    if (event.ctrlKey) {\n        mods.push('ctrl');\n    }\n    if (event.altKey) {\n        mods.push('alt');\n    }\n    if (event.shiftKey) {\n        mods.push('shift');\n    }\n    if (event.metaKey) {\n        mods.push('meta');\n    }\n    return mods;\n}\n\n/*\n * return a copy of an object with only non-object keys\n * we need this to avoid circular references\n * https://stackoverflow.com/a/24161582/3208463\n */\nfunction simpleKeys(original) {\n    return Object.keys(original).reduce(function (obj, key) {\n        if (typeof original[key] !== 'object') {\n            obj[key] = original[key];\n        }\n        return obj;\n    }, {});\n}\n\nmpl.figure.prototype.mouse_event = function (event, name) {\n    if (name === 'button_press') {\n        this.canvas.focus();\n        this.canvas_div.focus();\n    }\n\n    // from https://stackoverflow.com/q/1114465\n    var boundingRect = this.canvas.getBoundingClientRect();\n    var x = (event.clientX - boundingRect.left) * this.ratio;\n    var y = (event.clientY - boundingRect.top) * this.ratio;\n\n    this.send_message(name, {\n        x: x,\n        y: y,\n        button: event.button,\n        step: event.step,\n        modifiers: getModifiers(event),\n        guiEvent: simpleKeys(event),\n    });\n\n    return false;\n};\n\nmpl.figure.prototype._key_event_extra = function (_event, _name) {\n    // Handle any extra behaviour associated with a key event\n};\n\nmpl.figure.prototype.key_event = function (event, name) {\n    // Prevent repeat events\n    if (name === 'key_press') {\n        if (event.key === this._key) {\n            return;\n        } else {\n            this._key = event.key;\n        }\n    }\n    if (name === 'key_release') {\n        this._key = null;\n    }\n\n    var value = '';\n    if (event.ctrlKey && event.key !== 'Control') {\n        value += 'ctrl+';\n    }\n    else if (event.altKey && event.key !== 'Alt') {\n        value += 'alt+';\n    }\n    else if (event.shiftKey && event.key !== 'Shift') {\n        value += 'shift+';\n    }\n\n    value += 'k' + event.key;\n\n    this._key_event_extra(event, name);\n\n    this.send_message(name, { key: value, guiEvent: simpleKeys(event) });\n    return false;\n};\n\nmpl.figure.prototype.toolbar_button_onclick = function (name) {\n    if (name === 'download') {\n        this.handle_save(this, null);\n    } else {\n        this.send_message('toolbar_button', { name: name });\n    }\n};\n\nmpl.figure.prototype.toolbar_button_onmouseover = function (tooltip) {\n    this.message.textContent = tooltip;\n};\n\n///////////////// REMAINING CONTENT GENERATED BY embed_js.py /////////////////\n// prettier-ignore\nvar _JSXTOOLS_RESIZE_OBSERVER=function(A){var t,i=new WeakMap,n=new WeakMap,a=new WeakMap,r=new WeakMap,o=new Set;function s(e){if(!(this instanceof s))throw new TypeError(\"Constructor requires 'new' operator\");i.set(this,e)}function h(){throw new TypeError(\"Function is not a constructor\")}function c(e,t,i,n){e=0 in arguments?Number(arguments[0]):0,t=1 in arguments?Number(arguments[1]):0,i=2 in arguments?Number(arguments[2]):0,n=3 in arguments?Number(arguments[3]):0,this.right=(this.x=this.left=e)+(this.width=i),this.bottom=(this.y=this.top=t)+(this.height=n),Object.freeze(this)}function d(){t=requestAnimationFrame(d);var s=new WeakMap,p=new Set;o.forEach((function(t){r.get(t).forEach((function(i){var r=t instanceof window.SVGElement,o=a.get(t),d=r?0:parseFloat(o.paddingTop),f=r?0:parseFloat(o.paddingRight),l=r?0:parseFloat(o.paddingBottom),u=r?0:parseFloat(o.paddingLeft),g=r?0:parseFloat(o.borderTopWidth),m=r?0:parseFloat(o.borderRightWidth),w=r?0:parseFloat(o.borderBottomWidth),b=u+f,F=d+l,v=(r?0:parseFloat(o.borderLeftWidth))+m,W=g+w,y=r?0:t.offsetHeight-W-t.clientHeight,E=r?0:t.offsetWidth-v-t.clientWidth,R=b+v,z=F+W,M=r?t.width:parseFloat(o.width)-R-E,O=r?t.height:parseFloat(o.height)-z-y;if(n.has(t)){var k=n.get(t);if(k[0]===M&&k[1]===O)return}n.set(t,[M,O]);var S=Object.create(h.prototype);S.target=t,S.contentRect=new c(u,d,M,O),s.has(i)||(s.set(i,[]),p.add(i)),s.get(i).push(S)}))})),p.forEach((function(e){i.get(e).call(e,s.get(e),e)}))}return s.prototype.observe=function(i){if(i instanceof window.Element){r.has(i)||(r.set(i,new Set),o.add(i),a.set(i,window.getComputedStyle(i)));var n=r.get(i);n.has(this)||n.add(this),cancelAnimationFrame(t),t=requestAnimationFrame(d)}},s.prototype.unobserve=function(i){if(i instanceof window.Element&&r.has(i)){var n=r.get(i);n.has(this)&&(n.delete(this),n.size||(r.delete(i),o.delete(i))),n.size||r.delete(i),o.size||cancelAnimationFrame(t)}},A.DOMRectReadOnly=c,A.ResizeObserver=s,A.ResizeObserverEntry=h,A}; // eslint-disable-line\nmpl.toolbar_items = [[\"Home\", \"Reset original view\", \"fa fa-home\", \"home\"], [\"Back\", \"Back to previous view\", \"fa fa-arrow-left\", \"back\"], [\"Forward\", \"Forward to next view\", \"fa fa-arrow-right\", \"forward\"], [\"\", \"\", \"\", \"\"], [\"Pan\", \"Left button pans, Right button zooms\\nx/y fixes axis, CTRL fixes aspect\", \"fa fa-arrows\", \"pan\"], [\"Zoom\", \"Zoom to rectangle\\nx/y fixes axis\", \"fa fa-square-o\", \"zoom\"], [\"\", \"\", \"\", \"\"], [\"Download\", \"Download plot\", \"fa fa-floppy-o\", \"download\"]];\n\nmpl.extensions = [\"eps\", \"jpeg\", \"pgf\", \"pdf\", \"png\", \"ps\", \"raw\", \"svg\", \"tif\", \"webp\"];\n\nmpl.default_extension = \"png\";/* global mpl */\n\nvar comm_websocket_adapter = function (comm) {\n    // Create a \"websocket\"-like object which calls the given IPython comm\n    // object with the appropriate methods. Currently this is a non binary\n    // socket, so there is still some room for performance tuning.\n    var ws = {};\n\n    ws.binaryType = comm.kernel.ws.binaryType;\n    ws.readyState = comm.kernel.ws.readyState;\n    function updateReadyState(_event) {\n        if (comm.kernel.ws) {\n            ws.readyState = comm.kernel.ws.readyState;\n        } else {\n            ws.readyState = 3; // Closed state.\n        }\n    }\n    comm.kernel.ws.addEventListener('open', updateReadyState);\n    comm.kernel.ws.addEventListener('close', updateReadyState);\n    comm.kernel.ws.addEventListener('error', updateReadyState);\n\n    ws.close = function () {\n        comm.close();\n    };\n    ws.send = function (m) {\n        //console.log('sending', m);\n        comm.send(m);\n    };\n    // Register the callback with on_msg.\n    comm.on_msg(function (msg) {\n        //console.log('receiving', msg['content']['data'], msg);\n        var data = msg['content']['data'];\n        if (data['blob'] !== undefined) {\n            data = {\n                data: new Blob(msg['buffers'], { type: data['blob'] }),\n            };\n        }\n        // Pass the mpl event to the overridden (by mpl) onmessage function.\n        ws.onmessage(data);\n    });\n    return ws;\n};\n\nmpl.mpl_figure_comm = function (comm, msg) {\n    // This is the function which gets called when the mpl process\n    // starts-up an IPython Comm through the \"matplotlib\" channel.\n\n    var id = msg.content.data.id;\n    // Get hold of the div created by the display call when the Comm\n    // socket was opened in Python.\n    var element = document.getElementById(id);\n    var ws_proxy = comm_websocket_adapter(comm);\n\n    function ondownload(figure, _format) {\n        window.open(figure.canvas.toDataURL());\n    }\n\n    var fig = new mpl.figure(id, ws_proxy, ondownload, element);\n\n    // Call onopen now - mpl needs it, as it is assuming we've passed it a real\n    // web socket which is closed, not our websocket->open comm proxy.\n    ws_proxy.onopen();\n\n    fig.parent_element = element;\n    fig.cell_info = mpl.find_output_cell(\"<div id='\" + id + \"'></div>\");\n    if (!fig.cell_info) {\n        console.error('Failed to find cell for figure', id, fig);\n        return;\n    }\n    fig.cell_info[0].output_area.element.on(\n        'cleared',\n        { fig: fig },\n        fig._remove_fig_handler\n    );\n};\n\nmpl.figure.prototype.handle_close = function (fig, msg) {\n    var width = fig.canvas.width / fig.ratio;\n    fig.cell_info[0].output_area.element.off(\n        'cleared',\n        fig._remove_fig_handler\n    );\n    fig.resizeObserverInstance.unobserve(fig.canvas_div);\n\n    // Update the output cell to use the data from the current canvas.\n    fig.push_to_output();\n    var dataURL = fig.canvas.toDataURL();\n    // Re-enable the keyboard manager in IPython - without this line, in FF,\n    // the notebook keyboard shortcuts fail.\n    IPython.keyboard_manager.enable();\n    fig.parent_element.innerHTML =\n        '<img src=\"' + dataURL + '\" width=\"' + width + '\">';\n    fig.close_ws(fig, msg);\n};\n\nmpl.figure.prototype.close_ws = function (fig, msg) {\n    fig.send_message('closing', msg);\n    // fig.ws.close()\n};\n\nmpl.figure.prototype.push_to_output = function (_remove_interactive) {\n    // Turn the data on the canvas into data in the output cell.\n    var width = this.canvas.width / this.ratio;\n    var dataURL = this.canvas.toDataURL();\n    this.cell_info[1]['text/html'] =\n        '<img src=\"' + dataURL + '\" width=\"' + width + '\">';\n};\n\nmpl.figure.prototype.updated_canvas_event = function () {\n    // Tell IPython that the notebook contents must change.\n    IPython.notebook.set_dirty(true);\n    this.send_message('ack', {});\n    var fig = this;\n    // Wait a second, then push the new image to the DOM so\n    // that it is saved nicely (might be nice to debounce this).\n    setTimeout(function () {\n        fig.push_to_output();\n    }, 1000);\n};\n\nmpl.figure.prototype._init_toolbar = function () {\n    var fig = this;\n\n    var toolbar = document.createElement('div');\n    toolbar.classList = 'btn-toolbar';\n    this.root.appendChild(toolbar);\n\n    function on_click_closure(name) {\n        return function (_event) {\n            return fig.toolbar_button_onclick(name);\n        };\n    }\n\n    function on_mouseover_closure(tooltip) {\n        return function (event) {\n            if (!event.currentTarget.disabled) {\n                return fig.toolbar_button_onmouseover(tooltip);\n            }\n        };\n    }\n\n    fig.buttons = {};\n    var buttonGroup = document.createElement('div');\n    buttonGroup.classList = 'btn-group';\n    var button;\n    for (var toolbar_ind in mpl.toolbar_items) {\n        var name = mpl.toolbar_items[toolbar_ind][0];\n        var tooltip = mpl.toolbar_items[toolbar_ind][1];\n        var image = mpl.toolbar_items[toolbar_ind][2];\n        var method_name = mpl.toolbar_items[toolbar_ind][3];\n\n        if (!name) {\n            /* Instead of a spacer, we start a new button group. */\n            if (buttonGroup.hasChildNodes()) {\n                toolbar.appendChild(buttonGroup);\n            }\n            buttonGroup = document.createElement('div');\n            buttonGroup.classList = 'btn-group';\n            continue;\n        }\n\n        button = fig.buttons[name] = document.createElement('button');\n        button.classList = 'btn btn-default';\n        button.href = '#';\n        button.title = name;\n        button.innerHTML = '<i class=\"fa ' + image + ' fa-lg\"></i>';\n        button.addEventListener('click', on_click_closure(method_name));\n        button.addEventListener('mouseover', on_mouseover_closure(tooltip));\n        buttonGroup.appendChild(button);\n    }\n\n    if (buttonGroup.hasChildNodes()) {\n        toolbar.appendChild(buttonGroup);\n    }\n\n    // Add the status bar.\n    var status_bar = document.createElement('span');\n    status_bar.classList = 'mpl-message pull-right';\n    toolbar.appendChild(status_bar);\n    this.message = status_bar;\n\n    // Add the close button to the window.\n    var buttongrp = document.createElement('div');\n    buttongrp.classList = 'btn-group inline pull-right';\n    button = document.createElement('button');\n    button.classList = 'btn btn-mini btn-primary';\n    button.href = '#';\n    button.title = 'Stop Interaction';\n    button.innerHTML = '<i class=\"fa fa-power-off icon-remove icon-large\"></i>';\n    button.addEventListener('click', function (_evt) {\n        fig.handle_close(fig, {});\n    });\n    button.addEventListener(\n        'mouseover',\n        on_mouseover_closure('Stop Interaction')\n    );\n    buttongrp.appendChild(button);\n    var titlebar = this.root.querySelector('.ui-dialog-titlebar');\n    titlebar.insertBefore(buttongrp, titlebar.firstChild);\n};\n\nmpl.figure.prototype._remove_fig_handler = function (event) {\n    var fig = event.data.fig;\n    if (event.target !== this) {\n        // Ignore bubbled events from children.\n        return;\n    }\n    fig.close_ws(fig, {});\n};\n\nmpl.figure.prototype._root_extra_style = function (el) {\n    el.style.boxSizing = 'content-box'; // override notebook setting of border-box.\n};\n\nmpl.figure.prototype._canvas_extra_style = function (el) {\n    // this is important to make the div 'focusable\n    el.setAttribute('tabindex', 0);\n    // reach out to IPython and tell the keyboard manager to turn it's self\n    // off when our div gets focus\n\n    // location in version 3\n    if (IPython.notebook.keyboard_manager) {\n        IPython.notebook.keyboard_manager.register_events(el);\n    } else {\n        // location in version 2\n        IPython.keyboard_manager.register_events(el);\n    }\n};\n\nmpl.figure.prototype._key_event_extra = function (event, _name) {\n    // Check for shift+enter\n    if (event.shiftKey && event.which === 13) {\n        this.canvas_div.blur();\n        // select the cell after this one\n        var index = IPython.notebook.find_cell_index(this.cell_info[0]);\n        IPython.notebook.select(index + 1);\n    }\n};\n\nmpl.figure.prototype.handle_save = function (fig, _msg) {\n    fig.ondownload(fig, null);\n};\n\nmpl.find_output_cell = function (html_output) {\n    // Return the cell and output element which can be found *uniquely* in the notebook.\n    // Note - this is a bit hacky, but it is done because the \"notebook_saving.Notebook\"\n    // IPython event is triggered only after the cells have been serialised, which for\n    // our purposes (turning an active figure into a static one), is too late.\n    var cells = IPython.notebook.get_cells();\n    var ncells = cells.length;\n    for (var i = 0; i < ncells; i++) {\n        var cell = cells[i];\n        if (cell.cell_type === 'code') {\n            for (var j = 0; j < cell.output_area.outputs.length; j++) {\n                var data = cell.output_area.outputs[j];\n                if (data.data) {\n                    // IPython >= 3 moved mimebundle to data attribute of output\n                    data = data.data;\n                }\n                if (data['text/html'] === html_output) {\n                    return [cell, data, j];\n                }\n            }\n        }\n    }\n};\n\n// Register the function which deals with the matplotlib target/channel.\n// The kernel may be null if the page has been refreshed.\nif (IPython.notebook.kernel !== null) {\n    IPython.notebook.kernel.comm_manager.register_target(\n        'matplotlib',\n        mpl.mpl_figure_comm\n    );\n}\n",
      "text/plain": [
       "<IPython.core.display.Javascript object>"
      ]
     },
     "metadata": {},
     "output_type": "display_data"
    },
    {
     "data": {
      "text/html": [
       "<div id='bcaa507c-b3f0-4741-b1d3-c101894b9aad'></div>"
      ],
      "text/plain": [
       "<IPython.core.display.HTML object>"
      ]
     },
     "metadata": {},
     "output_type": "display_data"
    }
   ],
   "source": [
    "%matplotlib notebook\n",
    "\n",
    "######################## Subspace W ##############################\n",
    "s = np.linspace(-.5, .5, 10)\n",
    "t = np.linspace(-.5, .5, 10)\n",
    "S, T = np.meshgrid(s, t)\n",
    "\n",
    "X1 = 2 * S - 2 * T\n",
    "X2 = 5 * S + T\n",
    "X3 = -S + T\n",
    "\n",
    "fig = plt.figure(figsize = (7, 7))\n",
    "ax = fig.add_subplot(projection='3d')\n",
    "ax.plot_wireframe(X1, X2, X3, linewidth = 1.5, alpha = .3)\n",
    "\n",
    "########################### vector y ###############################\n",
    "y = np.array([1, 2, 3])\n",
    "u1, u2 = np.array([2, 5, -1]), np.array([-2, 1, 1])\n",
    "\n",
    "vec = np.array([[0, 0, 0, y[0], y[1], y[2]]])\n",
    "X, Y, Z, U, V, W = zip(*vec)\n",
    "ax.quiver(X, Y, Z, U, V, W, length=1, normalize=False, color = 'red', alpha = .6,arrow_length_ratio = .08, pivot = 'tail',\n",
    "          linestyles = 'solid',linewidths = 3)\n",
    "\n",
    "ax.text(y[0], y[1], y[2], '$\\mathbf{y}$', size = 15)\n",
    "########################### vector u1 and u2 ###############################\n",
    "\n",
    "vec = np.array([[0, 0, 0, u1[0], u1[1], u1[2]]])\n",
    "X, Y, Z, U, V, W = zip(*vec)\n",
    "ax.quiver(X, Y, Z, U, V, W, length=1, normalize=False, color = 'red', alpha = .6,arrow_length_ratio = .08, pivot = 'tail',\n",
    "          linestyles = 'solid',linewidths = 3)\n",
    "\n",
    "vec = np.array([[0, 0, 0, u2[0], u2[1], u2[2]]])\n",
    "X, Y, Z, U, V, W = zip(*vec)\n",
    "ax.quiver(X, Y, Z, U, V, W, length=1, normalize=False, color = 'red', alpha = .6,arrow_length_ratio = .08, pivot = 'tail',\n",
    "          linestyles = 'solid',linewidths = 3)\n",
    "\n",
    "\n",
    "ax.text(u1[0], u1[1], u1[2], '$\\mathbf{u}_1$', size = 15)\n",
    "ax.text(u2[0], u2[1], u2[2], '$\\mathbf{u}_2$', size = 15)\n",
    "###########################  yhat ###############################\n",
    "\n",
    "alpha1 = (y@u1)/(u1@u1)\n",
    "alpha2 = (y@u2)/(u2@u2)\n",
    "\n",
    "yhat1 = alpha1*u1\n",
    "yhat2 = alpha2*u2\n",
    "yhat = yhat1 + yhat2\n",
    "\n",
    "vec = np.array([[0, 0, 0, yhat1[0], yhat1[1], yhat1[2]]])\n",
    "X, Y, Z, U, V, W = zip(*vec)\n",
    "ax.quiver(X, Y, Z, U, V, W, length=1, normalize=False, color = 'blue', alpha = .6,arrow_length_ratio = .08, pivot = 'tail',\n",
    "          linestyles = 'solid',linewidths = 3, zorder= 3)\n",
    "\n",
    "vec = np.array([[0, 0, 0, yhat2[0], yhat2[1], yhat2[2]]])\n",
    "X, Y, Z, U, V, W = zip(*vec)\n",
    "ax.quiver(X, Y, Z, U, V, W, length=1, normalize=False, color = 'blue', alpha = .6,arrow_length_ratio = .08, pivot = 'tail',\n",
    "          linestyles = 'solid',linewidths = 3, zorder= 3)\n",
    "\n",
    "vec = np.array([[0, 0, 0, yhat[0], yhat[1], yhat[2]]])\n",
    "X, Y, Z, U, V, W = zip(*vec)\n",
    "ax.quiver(X, Y, Z, U, V, W, length=1, normalize=False, color = 'pink', alpha = 1,arrow_length_ratio = .12, pivot = 'tail',\n",
    "          linestyles = 'solid',linewidths = 3, zorder= 3)\n",
    "\n",
    "ax.text(yhat1[0], yhat1[1], yhat1[2], '$\\hat{\\mathbf{y}}_1$', size = 15)\n",
    "ax.text(yhat2[0], yhat2[1], yhat2[2], '$\\hat{\\mathbf{y}}_2$', size = 15)\n",
    "ax.text(x = yhat[0], y = yhat[1], z = yhat[2], \n",
    "        s = r'$\\hat{\\mathbf{y}}=\\frac{\\mathbf{y} \\cdot \\mathbf{u}_{1}}{\\mathbf{u}_{1} \\cdot \\mathbf{u}_{1}} \\mathbf{u}_{1}+\\frac{\\mathbf{y} \\cdot \\mathbf{u}_{2}}{\\mathbf{u}_{2} \\cdot \\mathbf{u}_{2}} \\mathbf{u}_{2}=\\hat{\\mathbf{y}}_{1}+\\hat{\\mathbf{y}}_{2}$', size = 15)\n",
    "###########################  z ###############################\n",
    "z = y - yhat\n",
    "vec = np.array([[yhat[0], yhat[1], yhat[2], z[0], z[1], z[2]]])\n",
    "X, Y, Z, U, V, W = zip(*vec)\n",
    "ax.quiver(X, Y, Z, U, V, W, length=1, normalize=False, color = 'green', alpha = .6,arrow_length_ratio = .08, pivot = 'tail',\n",
    "          linestyles = 'solid',linewidths = 3)\n",
    "\n",
    "############################ Dashed Line ####################\n",
    "\n",
    "line1 = np.array([y, yhat1])\n",
    "ax.plot(line1[:,0], line1[:,1], line1[:,2], c = 'b', lw = 3.5,alpha =0.5, ls = '--')\n",
    "\n",
    "line2 = np.array([y, yhat2])\n",
    "ax.plot(line2[:,0], line2[:,1], line2[:,2], c = 'b', lw = 2.5,alpha =0.5, ls = '--')\n",
    "\n",
    "line3 = np.array([yhat, yhat2])\n",
    "ax.plot(line3[:,0], line3[:,1], line3[:,2], c = 'b', lw = 2.5,alpha =0.5, ls = '--')\n",
    "\n",
    "line4 = np.array([yhat, yhat1])\n",
    "ax.plot(line4[:,0], line4[:,1], line4[:,2], c = 'b', lw = 2.5,alpha =0.5, ls = '--')\n",
    "\n",
    "############################# View Angel\n",
    "ax.view_init(elev=-6, azim=12)"
   ]
  },
  {
   "cell_type": "markdown",
   "metadata": {},
   "source": [
    "# <font face=\"gotham\" color=\"purple\"> 正交归一集</font>"
   ]
  },
  {
   "cell_type": "markdown",
   "metadata": {},
   "source": [
    "一个<font face=\"gotham\" color=\"red\">正交归一集</font>是通过对正交集进行归一化得到的，也被称为<font face=\"gotham\" color=\"red\">正交归一基</font>。"
   ]
  },
  {
   "cell_type": "markdown",
   "metadata": {},
   "source": [
    "矩阵的列形成正交归一集对于矩阵计算非常重要。\n",
    "\n",
    "设$U=\\left[\\begin{array}{lll}\n",
    "\\mathbf{u}_{1} & \\mathbf{u}_{2} & \\mathbf{u}_{3}\n",
    "\\end{array}\\right]$，其中$\\mathbf{u}_{i}$来自于一个正交归一集，那么外积$U^TU$是\n",
    "\n",
    "$$U^{T} U=\\left[\\begin{array}{l}\n",
    "\\mathbf{u}_{1}^{T} \\\\\n",
    "\\mathbf{u}_{2}^{T} \\\\\n",
    "\\mathbf{u}_{3}^{T}\n",
    "\\end{array}\\right]\\left[\\begin{array}{lll}\n",
    "\\mathbf{u}_{1} & \\mathbf{u}_{2} & \\mathbf{u}_{3}\n",
    "\\end{array}\\right]=\\left[\\begin{array}{lll}\n",
    "\\mathbf{u}_{1}^{T} \\mathbf{u}_{1} & \\mathbf{u}_{1}^{T} \\mathbf{u}_{2} & \\mathbf{u}_{1}^{T} \\mathbf{u}_{3} \\\\\n",
    "\\mathbf{u}_{2}^{T} \\mathbf{u}_{1} & \\mathbf{u}_{2}^{T} \\mathbf{u}_{2} & \\mathbf{u}_{2}^{T} \\mathbf{u}_{3} \\\\\n",
    "\\mathbf{u}_{3}^{T} \\mathbf{u}_{1} & \\mathbf{u}_{3}^{T} \\mathbf{u}_{2} & \\mathbf{u}_{3}^{T} \\mathbf{u}_{3}\n",
    "\\end{array}\\right]$$"
   ]
  },
  {
   "cell_type": "markdown",
   "metadata": {},
   "source": [
    "而且$\\mathbf{u}_{i}^{T} \\mathbf{u}_{j}, i, j \\in (1, 2, 3)$是一个内积。"
   ]
  },
  {
   "cell_type": "markdown",
   "metadata": {},
   "source": [
    "由于正交归一集的存在，我们有\n",
    "\n",
    "$$\n",
    "\\mathbf{u}_{1}^{T} \\mathbf{u}_{2}=\\mathbf{u}_{2}^{T} \\mathbf{u}_{1}=0, \\quad \\mathbf{u}_{1}^{T} \\mathbf{u}_{3}=\\mathbf{u}_{3}^{T} \\mathbf{u}_{1}=0, \\quad \\mathbf{u}_{2}^{T} \\mathbf{u}_{3}=\\mathbf{u}_{3}^{T} \\mathbf{u}_{2}=0\\\\\n",
    "\\mathbf{u}_{1}^{T} \\mathbf{u}_{1}=1, \\quad \\mathbf{u}_{2}^{T} \\mathbf{u}_{2}=1, \\quad \\mathbf{u}_{3}^{T} \\mathbf{u}_{3}=1\n",
    "$$"
   ]
  },
  {
   "cell_type": "markdown",
   "metadata": {},
   "source": [
    "这意味着\n",
    "\n",
    "$$\n",
    "U^TU = I\n",
    "$$"
   ]
  },
  {
   "cell_type": "markdown",
   "metadata": {},
   "source": [
    "回顾一下我们有一个通用的投影公式\n",
    "\n",
    "$$\n",
    "\\hat{\\mathbf{y}}=\\frac{\\mathbf{y} \\cdot \\mathbf{u}_{1}}{\\mathbf{u}_{1} \\cdot \\mathbf{u}_{1}} \\mathbf{u}_{1}+\\cdots+\\frac{\\mathbf{y} \\cdot \\mathbf{u}_{p}}{\\mathbf{u}_{p} \\cdot \\mathbf{u}_{p}} \\mathbf{u}_{p}\n",
    "=\\frac{\\mathbf{y} \\cdot \\mathbf{u}_{1}}{{\\mathbf{u}_{1}^T} \\mathbf{u}_{1}} \\mathbf{u}_{1}+\\cdots+\\frac{\\mathbf{y} \\cdot \\mathbf{u}_{p}}{{\\mathbf{u}_{p}^T} \\mathbf{u}_{p}} \\mathbf{u}_{p}\\\\\n",
    "$$\n"
   ]
  },
  {
   "cell_type": "markdown",
   "metadata": {},
   "source": [
    "如果$\\{\\mathbf{u}_1,...,\\mathbf{u}_p\\}$是一个正交归一集，那么\n",
    "\n",
    "\\begin{align}\n",
    "\\hat{\\mathbf{y}}&=\\left(\\mathbf{y} \\cdot \\mathbf{u}_{1}\\right) \\mathbf{u}_{1}+\\left(\\mathbf{y} \\cdot \\mathbf{u}_{2}\\right) \\mathbf{u}_{2}+\\cdots+\\left(\\mathbf{y} \\cdot \\mathbf{u}_{p}\\right) \\mathbf{u}_{p}\\\\\n",
    "& = \\left(\\mathbf{u}_{1}^T\\mathbf{y}\\right) \\mathbf{u}_{1}+\\left(\\mathbf{u}_{2}^T\\mathbf{y}\\right) \\mathbf{u}_{2}+\\cdots+\\left(\\mathbf{u}_{p}^T\\mathbf{y}\\right) \\mathbf{u}_{p}\\\\\n",
    "\\end{align}"
   ]
  },
  {
   "cell_type": "markdown",
   "metadata": {},
   "source": [
    "# <font face=\"gotham\" color=\"purple\">叉乘</font>"
   ]
  },
  {
   "cell_type": "markdown",
   "metadata": {},
   "source": [
    "这是叉乘的公式：\n",
    "$$\n",
    "\\mathbf{a} \\times \\mathbf{b}=\\|\\mathbf{a}\\|\\|\\mathbf{b}\\| \\sin (\\theta) \\mathbf{n}\n",
    "$$\n",
    "叉乘的输出是向量$\\mathbf{c}$的长度，它垂直于$\\mathbf{a}$和$\\mathbf{b}$。"
   ]
  },
  {
   "cell_type": "code",
   "execution_count": 30,
   "metadata": {},
   "outputs": [
    {
     "data": {
      "application/vnd.plotly.v1+json": {
       "config": {
        "plotlyServerURL": "https://plot.ly"
       },
       "data": [
        {
         "line": {
          "color": "red",
          "width": 5
         },
         "mode": "lines",
         "name": "Vector a",
         "type": "scatter3d",
         "x": [
          0,
          5
         ],
         "y": [
          0,
          2
         ],
         "z": [
          0,
          3
         ]
        },
        {
         "line": {
          "color": "green",
          "width": 5
         },
         "mode": "lines",
         "name": "Vector b",
         "type": "scatter3d",
         "x": [
          0,
          4
         ],
         "y": [
          0,
          8
         ],
         "z": [
          0,
          10
         ]
        },
        {
         "line": {
          "color": "blue",
          "width": 5
         },
         "mode": "lines",
         "name": "Vector c (cross product)",
         "type": "scatter3d",
         "x": [
          0,
          -4
         ],
         "y": [
          0,
          -38
         ],
         "z": [
          0,
          32
         ]
        }
       ],
       "layout": {
        "scene": {
         "xaxis": {
          "title": {
           "text": "X"
          }
         },
         "yaxis": {
          "title": {
           "text": "Y"
          }
         },
         "zaxis": {
          "title": {
           "text": "Z"
          }
         }
        },
        "template": {
         "data": {
          "bar": [
           {
            "error_x": {
             "color": "#2a3f5f"
            },
            "error_y": {
             "color": "#2a3f5f"
            },
            "marker": {
             "line": {
              "color": "#E5ECF6",
              "width": 0.5
             },
             "pattern": {
              "fillmode": "overlay",
              "size": 10,
              "solidity": 0.2
             }
            },
            "type": "bar"
           }
          ],
          "barpolar": [
           {
            "marker": {
             "line": {
              "color": "#E5ECF6",
              "width": 0.5
             },
             "pattern": {
              "fillmode": "overlay",
              "size": 10,
              "solidity": 0.2
             }
            },
            "type": "barpolar"
           }
          ],
          "carpet": [
           {
            "aaxis": {
             "endlinecolor": "#2a3f5f",
             "gridcolor": "white",
             "linecolor": "white",
             "minorgridcolor": "white",
             "startlinecolor": "#2a3f5f"
            },
            "baxis": {
             "endlinecolor": "#2a3f5f",
             "gridcolor": "white",
             "linecolor": "white",
             "minorgridcolor": "white",
             "startlinecolor": "#2a3f5f"
            },
            "type": "carpet"
           }
          ],
          "choropleth": [
           {
            "colorbar": {
             "outlinewidth": 0,
             "ticks": ""
            },
            "type": "choropleth"
           }
          ],
          "contour": [
           {
            "colorbar": {
             "outlinewidth": 0,
             "ticks": ""
            },
            "colorscale": [
             [
              0,
              "#0d0887"
             ],
             [
              0.1111111111111111,
              "#46039f"
             ],
             [
              0.2222222222222222,
              "#7201a8"
             ],
             [
              0.3333333333333333,
              "#9c179e"
             ],
             [
              0.4444444444444444,
              "#bd3786"
             ],
             [
              0.5555555555555556,
              "#d8576b"
             ],
             [
              0.6666666666666666,
              "#ed7953"
             ],
             [
              0.7777777777777778,
              "#fb9f3a"
             ],
             [
              0.8888888888888888,
              "#fdca26"
             ],
             [
              1,
              "#f0f921"
             ]
            ],
            "type": "contour"
           }
          ],
          "contourcarpet": [
           {
            "colorbar": {
             "outlinewidth": 0,
             "ticks": ""
            },
            "type": "contourcarpet"
           }
          ],
          "heatmap": [
           {
            "colorbar": {
             "outlinewidth": 0,
             "ticks": ""
            },
            "colorscale": [
             [
              0,
              "#0d0887"
             ],
             [
              0.1111111111111111,
              "#46039f"
             ],
             [
              0.2222222222222222,
              "#7201a8"
             ],
             [
              0.3333333333333333,
              "#9c179e"
             ],
             [
              0.4444444444444444,
              "#bd3786"
             ],
             [
              0.5555555555555556,
              "#d8576b"
             ],
             [
              0.6666666666666666,
              "#ed7953"
             ],
             [
              0.7777777777777778,
              "#fb9f3a"
             ],
             [
              0.8888888888888888,
              "#fdca26"
             ],
             [
              1,
              "#f0f921"
             ]
            ],
            "type": "heatmap"
           }
          ],
          "heatmapgl": [
           {
            "colorbar": {
             "outlinewidth": 0,
             "ticks": ""
            },
            "colorscale": [
             [
              0,
              "#0d0887"
             ],
             [
              0.1111111111111111,
              "#46039f"
             ],
             [
              0.2222222222222222,
              "#7201a8"
             ],
             [
              0.3333333333333333,
              "#9c179e"
             ],
             [
              0.4444444444444444,
              "#bd3786"
             ],
             [
              0.5555555555555556,
              "#d8576b"
             ],
             [
              0.6666666666666666,
              "#ed7953"
             ],
             [
              0.7777777777777778,
              "#fb9f3a"
             ],
             [
              0.8888888888888888,
              "#fdca26"
             ],
             [
              1,
              "#f0f921"
             ]
            ],
            "type": "heatmapgl"
           }
          ],
          "histogram": [
           {
            "marker": {
             "pattern": {
              "fillmode": "overlay",
              "size": 10,
              "solidity": 0.2
             }
            },
            "type": "histogram"
           }
          ],
          "histogram2d": [
           {
            "colorbar": {
             "outlinewidth": 0,
             "ticks": ""
            },
            "colorscale": [
             [
              0,
              "#0d0887"
             ],
             [
              0.1111111111111111,
              "#46039f"
             ],
             [
              0.2222222222222222,
              "#7201a8"
             ],
             [
              0.3333333333333333,
              "#9c179e"
             ],
             [
              0.4444444444444444,
              "#bd3786"
             ],
             [
              0.5555555555555556,
              "#d8576b"
             ],
             [
              0.6666666666666666,
              "#ed7953"
             ],
             [
              0.7777777777777778,
              "#fb9f3a"
             ],
             [
              0.8888888888888888,
              "#fdca26"
             ],
             [
              1,
              "#f0f921"
             ]
            ],
            "type": "histogram2d"
           }
          ],
          "histogram2dcontour": [
           {
            "colorbar": {
             "outlinewidth": 0,
             "ticks": ""
            },
            "colorscale": [
             [
              0,
              "#0d0887"
             ],
             [
              0.1111111111111111,
              "#46039f"
             ],
             [
              0.2222222222222222,
              "#7201a8"
             ],
             [
              0.3333333333333333,
              "#9c179e"
             ],
             [
              0.4444444444444444,
              "#bd3786"
             ],
             [
              0.5555555555555556,
              "#d8576b"
             ],
             [
              0.6666666666666666,
              "#ed7953"
             ],
             [
              0.7777777777777778,
              "#fb9f3a"
             ],
             [
              0.8888888888888888,
              "#fdca26"
             ],
             [
              1,
              "#f0f921"
             ]
            ],
            "type": "histogram2dcontour"
           }
          ],
          "mesh3d": [
           {
            "colorbar": {
             "outlinewidth": 0,
             "ticks": ""
            },
            "type": "mesh3d"
           }
          ],
          "parcoords": [
           {
            "line": {
             "colorbar": {
              "outlinewidth": 0,
              "ticks": ""
             }
            },
            "type": "parcoords"
           }
          ],
          "pie": [
           {
            "automargin": true,
            "type": "pie"
           }
          ],
          "scatter": [
           {
            "fillpattern": {
             "fillmode": "overlay",
             "size": 10,
             "solidity": 0.2
            },
            "type": "scatter"
           }
          ],
          "scatter3d": [
           {
            "line": {
             "colorbar": {
              "outlinewidth": 0,
              "ticks": ""
             }
            },
            "marker": {
             "colorbar": {
              "outlinewidth": 0,
              "ticks": ""
             }
            },
            "type": "scatter3d"
           }
          ],
          "scattercarpet": [
           {
            "marker": {
             "colorbar": {
              "outlinewidth": 0,
              "ticks": ""
             }
            },
            "type": "scattercarpet"
           }
          ],
          "scattergeo": [
           {
            "marker": {
             "colorbar": {
              "outlinewidth": 0,
              "ticks": ""
             }
            },
            "type": "scattergeo"
           }
          ],
          "scattergl": [
           {
            "marker": {
             "colorbar": {
              "outlinewidth": 0,
              "ticks": ""
             }
            },
            "type": "scattergl"
           }
          ],
          "scattermapbox": [
           {
            "marker": {
             "colorbar": {
              "outlinewidth": 0,
              "ticks": ""
             }
            },
            "type": "scattermapbox"
           }
          ],
          "scatterpolar": [
           {
            "marker": {
             "colorbar": {
              "outlinewidth": 0,
              "ticks": ""
             }
            },
            "type": "scatterpolar"
           }
          ],
          "scatterpolargl": [
           {
            "marker": {
             "colorbar": {
              "outlinewidth": 0,
              "ticks": ""
             }
            },
            "type": "scatterpolargl"
           }
          ],
          "scatterternary": [
           {
            "marker": {
             "colorbar": {
              "outlinewidth": 0,
              "ticks": ""
             }
            },
            "type": "scatterternary"
           }
          ],
          "surface": [
           {
            "colorbar": {
             "outlinewidth": 0,
             "ticks": ""
            },
            "colorscale": [
             [
              0,
              "#0d0887"
             ],
             [
              0.1111111111111111,
              "#46039f"
             ],
             [
              0.2222222222222222,
              "#7201a8"
             ],
             [
              0.3333333333333333,
              "#9c179e"
             ],
             [
              0.4444444444444444,
              "#bd3786"
             ],
             [
              0.5555555555555556,
              "#d8576b"
             ],
             [
              0.6666666666666666,
              "#ed7953"
             ],
             [
              0.7777777777777778,
              "#fb9f3a"
             ],
             [
              0.8888888888888888,
              "#fdca26"
             ],
             [
              1,
              "#f0f921"
             ]
            ],
            "type": "surface"
           }
          ],
          "table": [
           {
            "cells": {
             "fill": {
              "color": "#EBF0F8"
             },
             "line": {
              "color": "white"
             }
            },
            "header": {
             "fill": {
              "color": "#C8D4E3"
             },
             "line": {
              "color": "white"
             }
            },
            "type": "table"
           }
          ]
         },
         "layout": {
          "annotationdefaults": {
           "arrowcolor": "#2a3f5f",
           "arrowhead": 0,
           "arrowwidth": 1
          },
          "autotypenumbers": "strict",
          "coloraxis": {
           "colorbar": {
            "outlinewidth": 0,
            "ticks": ""
           }
          },
          "colorscale": {
           "diverging": [
            [
             0,
             "#8e0152"
            ],
            [
             0.1,
             "#c51b7d"
            ],
            [
             0.2,
             "#de77ae"
            ],
            [
             0.3,
             "#f1b6da"
            ],
            [
             0.4,
             "#fde0ef"
            ],
            [
             0.5,
             "#f7f7f7"
            ],
            [
             0.6,
             "#e6f5d0"
            ],
            [
             0.7,
             "#b8e186"
            ],
            [
             0.8,
             "#7fbc41"
            ],
            [
             0.9,
             "#4d9221"
            ],
            [
             1,
             "#276419"
            ]
           ],
           "sequential": [
            [
             0,
             "#0d0887"
            ],
            [
             0.1111111111111111,
             "#46039f"
            ],
            [
             0.2222222222222222,
             "#7201a8"
            ],
            [
             0.3333333333333333,
             "#9c179e"
            ],
            [
             0.4444444444444444,
             "#bd3786"
            ],
            [
             0.5555555555555556,
             "#d8576b"
            ],
            [
             0.6666666666666666,
             "#ed7953"
            ],
            [
             0.7777777777777778,
             "#fb9f3a"
            ],
            [
             0.8888888888888888,
             "#fdca26"
            ],
            [
             1,
             "#f0f921"
            ]
           ],
           "sequentialminus": [
            [
             0,
             "#0d0887"
            ],
            [
             0.1111111111111111,
             "#46039f"
            ],
            [
             0.2222222222222222,
             "#7201a8"
            ],
            [
             0.3333333333333333,
             "#9c179e"
            ],
            [
             0.4444444444444444,
             "#bd3786"
            ],
            [
             0.5555555555555556,
             "#d8576b"
            ],
            [
             0.6666666666666666,
             "#ed7953"
            ],
            [
             0.7777777777777778,
             "#fb9f3a"
            ],
            [
             0.8888888888888888,
             "#fdca26"
            ],
            [
             1,
             "#f0f921"
            ]
           ]
          },
          "colorway": [
           "#636efa",
           "#EF553B",
           "#00cc96",
           "#ab63fa",
           "#FFA15A",
           "#19d3f3",
           "#FF6692",
           "#B6E880",
           "#FF97FF",
           "#FECB52"
          ],
          "font": {
           "color": "#2a3f5f"
          },
          "geo": {
           "bgcolor": "white",
           "lakecolor": "white",
           "landcolor": "#E5ECF6",
           "showlakes": true,
           "showland": true,
           "subunitcolor": "white"
          },
          "hoverlabel": {
           "align": "left"
          },
          "hovermode": "closest",
          "mapbox": {
           "style": "light"
          },
          "paper_bgcolor": "white",
          "plot_bgcolor": "#E5ECF6",
          "polar": {
           "angularaxis": {
            "gridcolor": "white",
            "linecolor": "white",
            "ticks": ""
           },
           "bgcolor": "#E5ECF6",
           "radialaxis": {
            "gridcolor": "white",
            "linecolor": "white",
            "ticks": ""
           }
          },
          "scene": {
           "xaxis": {
            "backgroundcolor": "#E5ECF6",
            "gridcolor": "white",
            "gridwidth": 2,
            "linecolor": "white",
            "showbackground": true,
            "ticks": "",
            "zerolinecolor": "white"
           },
           "yaxis": {
            "backgroundcolor": "#E5ECF6",
            "gridcolor": "white",
            "gridwidth": 2,
            "linecolor": "white",
            "showbackground": true,
            "ticks": "",
            "zerolinecolor": "white"
           },
           "zaxis": {
            "backgroundcolor": "#E5ECF6",
            "gridcolor": "white",
            "gridwidth": 2,
            "linecolor": "white",
            "showbackground": true,
            "ticks": "",
            "zerolinecolor": "white"
           }
          },
          "shapedefaults": {
           "line": {
            "color": "#2a3f5f"
           }
          },
          "ternary": {
           "aaxis": {
            "gridcolor": "white",
            "linecolor": "white",
            "ticks": ""
           },
           "baxis": {
            "gridcolor": "white",
            "linecolor": "white",
            "ticks": ""
           },
           "bgcolor": "#E5ECF6",
           "caxis": {
            "gridcolor": "white",
            "linecolor": "white",
            "ticks": ""
           }
          },
          "title": {
           "x": 0.05
          },
          "xaxis": {
           "automargin": true,
           "gridcolor": "white",
           "linecolor": "white",
           "ticks": "",
           "title": {
            "standoff": 15
           },
           "zerolinecolor": "white",
           "zerolinewidth": 2
          },
          "yaxis": {
           "automargin": true,
           "gridcolor": "white",
           "linecolor": "white",
           "ticks": "",
           "title": {
            "standoff": 15
           },
           "zerolinecolor": "white",
           "zerolinewidth": 2
          }
         }
        }
       }
      }
     },
     "metadata": {},
     "output_type": "display_data"
    }
   ],
   "source": [
    "import plotly.graph_objects as go\n",
    "\n",
    "# Define the two vectors\n",
    "a = np.array([5, 2, 3])\n",
    "b = np.array([4, 8, 10])\n",
    "\n",
    "# Calculate the cross product\n",
    "c = np.cross(a, b)\n",
    "\n",
    "# Create the 3D plot\n",
    "fig = go.Figure(data=[\n",
    "    go.Scatter3d(x=[0, a[0]], y=[0, a[1]], z=[0, a[2]], mode='lines', name='Vector a', line=dict(color='red', width=5)),\n",
    "    go.Scatter3d(x=[0, b[0]], y=[0, b[1]], z=[0, b[2]], mode='lines', name='Vector b', line=dict(color='green', width=5)),\n",
    "    go.Scatter3d(x=[0, c[0]], y=[0, c[1]], z=[0, c[2]], mode='lines', name='Vector c (cross product)', line=dict(color='blue', width=5))\n",
    "])\n",
    "\n",
    "# Set the axis labels\n",
    "fig.update_layout(scene=dict(xaxis_title='X', yaxis_title='Y', zaxis_title='Z'))\n",
    "\n",
    "# Show the plot\n",
    "fig.show()"
   ]
  }
 ],
 "metadata": {
  "kernelspec": {
   "display_name": "Python 3 (ipykernel)",
   "language": "python",
   "name": "python3"
  },
  "language_info": {
   "codemirror_mode": {
    "name": "ipython",
    "version": 3
   },
   "file_extension": ".py",
   "mimetype": "text/x-python",
   "name": "python",
   "nbconvert_exporter": "python",
   "pygments_lexer": "ipython3",
   "version": "3.12.2"
  },
  "toc": {
   "base_numbering": 1,
   "nav_menu": {},
   "number_sections": true,
   "sideBar": true,
   "skip_h1_title": false,
   "title_cell": "Table of Contents",
   "title_sidebar": "Contents",
   "toc_cell": false,
   "toc_position": {
    "height": "calc(100% - 180px)",
    "left": "10px",
    "top": "150px",
    "width": "165px"
   },
   "toc_section_display": true,
   "toc_window_display": true
  }
 },
 "nbformat": 4,
 "nbformat_minor": 4
}
