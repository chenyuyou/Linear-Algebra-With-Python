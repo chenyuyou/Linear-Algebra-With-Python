{
 "cells": [
  {
   "cell_type": "code",
   "execution_count": 1,
   "metadata": {},
   "outputs": [],
   "source": [
    "import numpy as np\n",
    "import scipy as sp\n",
    "import scipy.linalg\n",
    "import sympy as sy\n",
    "sy.init_printing() "
   ]
  },
  {
   "cell_type": "code",
   "execution_count": 2,
   "metadata": {},
   "outputs": [],
   "source": [
    "from IPython.core.interactiveshell import InteractiveShell\n",
    "InteractiveShell.ast_node_interactivity = \"all\""
   ]
  },
  {
   "cell_type": "markdown",
   "metadata": {},
   "source": [
    "# <font face=\"gotham\" color=\"purple\"> LU 分解</font>"
   ]
  },
  {
   "cell_type": "markdown",
   "metadata": {},
   "source": [
    "LU 分解的出现是因为它的计算效率，它主要简化了解线性方程组的过程，尽管 LU 的浮点运算次数仍然高于高斯-约当消元。然而，如果你要计算多个 $A x =b$ 的解，LU 分解就特别方便了。\n",
    "\n",
    "例如，如果你有一组 $\\{b_i,\\ i \\in \\mathbb Z\\}$ 来代入系统，使得\n",
    "$$\n",
    "Ax=b_1,\\quad Ax=b_2,\\quad Ax=b_3,\\quad Ax=b_4, \\quad...\n",
    "$$\n",
    "我们只需要对 $A$ 进行一次分解，但是高斯-约当算法必须对每个 $b_i$ 重新进行操作。"
   ]
  },
  {
   "cell_type": "markdown",
   "metadata": {},
   "source": [
    "## <font face=\"gotham\" color=\"purple\"> LU 算法</font>"
   ]
  },
  {
   "cell_type": "markdown",
   "metadata": {},
   "source": [
    "我们的目标是将矩阵 $A$ 分解为 $L$ 和 $U$，分别表示_下三角矩阵_和_上三角矩阵_。而且 $L$ 必须在其主对角线上有 $1$。\n",
    "$$\n",
    "A = LU\n",
    "$$\n",
    "例如，\n",
    "$$\n",
    "A=\\underbrace{\\left[\\begin{array}{cccc}\n",
    "1 & 0 & 0 & 0 \\\\\n",
    "* & 1 & 0 & 0 \\\\\n",
    "* & * & 1 & 0 \\\\\n",
    "* & * & * & 1\n",
    "\\end{array}\\right]}_{L}\\underbrace{\\left[\\begin{array}{ccccc}\n",
    "\\blacksquare & * & * & * & * \\\\\n",
    "0 & \\blacksquare & * & * & * \\\\\n",
    "0 & 0 & 0 & \\blacksquare & * \\\\\n",
    "0 & 0 & 0 & 0 & 0\n",
    "\\end{array}\\right]}_{U}\n",
    "$$"
   ]
  },
  {
   "cell_type": "markdown",
   "metadata": {},
   "source": [
    "分解的可行性取决于是否可以通过一系列行操作将 $A$ 转换为上三角矩阵，即\n",
    "\n",
    "$$E_p...E_2E_1  A = U$$\n",
    "\n",
    "然后\n",
    "\n",
    "$$A = (E_p...E_2E_1)^{-1}U = LU$$\n",
    "\n",
    "其中\n",
    "\n",
    "$$L = (E_p...E_2E_1)^{-1}$$"
   ]
  },
  {
   "cell_type": "markdown",
   "metadata": {},
   "source": [
    "我们将在这里手动计算一个示例：\n",
    "\n",
    "$$\n",
    "A =\n",
    "\\begin{bmatrix}\n",
    "9 & 3 & 6\\\\3 & 4 & 6\\\\0 & 8 & 8\\\\\n",
    "\\end{bmatrix}\n",
    "$$"
   ]
  },
  {
   "cell_type": "markdown",
   "metadata": {},
   "source": [
    "$$\n",
    "\\underbrace{\n",
    "\\begin{bmatrix}\n",
    "1 & 0 & 0\\\\-\\frac{1}{3} & 1 & 0\\\\0 & 0 & 1\\\\\n",
    "\\end{bmatrix}}_{E_1}\n",
    "\\underbrace{\n",
    "\\begin{bmatrix}\n",
    "9 & 3 & 6\\\\3 & 4 & 6\\\\0 & 8 & 8\\\\ \n",
    "\\end{bmatrix}}_{A}\n",
    "=\n",
    "\\underbrace{\n",
    "\\begin{bmatrix}\n",
    "9 & 3 & 6\\\\0 & 3 & 4\\\\0 & 8 & 8\\\\ \n",
    "\\end{bmatrix}}_{E_1A}\n",
    "$$"
   ]
  },
  {
   "cell_type": "markdown",
   "metadata": {},
   "source": [
    "$$\n",
    "\\underbrace{\n",
    "\\begin{bmatrix}\n",
    "1 & 0 & 0\\\\0 &1  & 0\\\\0 & -\\frac{8}{3} & 1\\\\\n",
    "\\end{bmatrix}}_{E_2}\n",
    "\\underbrace{\n",
    "\\begin{bmatrix}\n",
    "9 & 3 & 6\\\\0 & 3 & 4\\\\0 & 8 & 8\\\\ \n",
    "\\end{bmatrix}}_{E_1A}\n",
    "=\n",
    "\\underbrace{\n",
    "\\begin{bmatrix}\n",
    "9 & 3 & 6\\\\0 & 3 & 4\\\\0 & 0 & -\\frac{8}{3}\\\\ \n",
    "\\end{bmatrix}}_{E_2E_1A=U}\n",
    "$$"
   ]
  },
  {
   "cell_type": "markdown",
   "metadata": {},
   "source": [
    "$$\n",
    "L^{-1} = E_2E_1 = \n",
    "\\underbrace{\n",
    "\\begin{bmatrix}\n",
    "1 & 0 & 0\\\\0 &1  & 0\\\\0 & -\\frac{8}{3} & 1\\\\\n",
    "\\end{bmatrix}}_{E_2}\n",
    "\\underbrace{\n",
    "\\begin{bmatrix}\n",
    "1 & 0 & 0\\\\-\\frac{1}{3} & 1 & 0\\\\0 & 0 & 1\\\\\n",
    "\\end{bmatrix}}_{E_1}\n",
    "=\n",
    "\\begin{bmatrix}\n",
    "1 & 0 & 0\\\\-\\frac{1}{3} & 1 & 0\\\\\\frac{8}{9} & -\\frac{8}{3} & 1\\\\\n",
    "\\end{bmatrix}\n",
    "$$"
   ]
  },
  {
   "cell_type": "markdown",
   "metadata": {},
   "source": [
    "或者我们可以直接计算 $E_1^{-1}$ 和 $E_2^{-1}$，因为\n",
    "$$\n",
    "L = E_1^{-1}E_2^{-1}\n",
    "$$\n"
   ]
  },
  {
   "cell_type": "markdown",
   "metadata": {},
   "source": [
    "构造 $E_2$ 和 $E_1$ 的增广矩阵\n",
    "$$\n",
    "[E_1| I]=\\left[\\begin{array}{ccc|ccc}  \n",
    "1 & 0 & 0 & 1 & 0 & 0\\\\\n",
    "-\\frac{1}{3} & 1 & 0 & 0  & 1 & 0\\\\\n",
    "0 & 0 & 1 & 0 & 0 & 1\n",
    "\\end{array}\\right]\n",
    "\\sim\n",
    "\\left[\\begin{array}{ccc|ccc}\n",
    "1 &0 &0 &1 & 0 & 0\\\\\n",
    "0& 1& 0& \\frac{1}{3} & 1 & 0\\\\\n",
    "0 & 0 & 1 &0 & 0 & 1\n",
    "\\end{array}\\right]\n",
    "=[I|E_1^{-1}]\n",
    "$$\n",
    "\n",
    "$$\n",
    "[E_2| I]=\n",
    "\\left[\\begin{array}{ccc|ccc}  \n",
    "1 & 0 & 0 & 1 & 0 & 0\\\\\n",
    "0 & 1 & 0 & 0  & 1 & 0\\\\\n",
    "0 & -\\frac{8}{3} & 1 & 0 & 0 & 1\\\\\n",
    "\\end{array}\n",
    "\\right]\n",
    "\\sim\n",
    "\\left[\\begin{array}{ccc|ccc}  \n",
    "1 & 0 & 0 & 1 & 0 & 0\\\\\n",
    "0 & 1 & 0 & 0  & 1 & 0\\\\\n",
    "0 & 0 & 1 & 0 &\\frac{8}{3}& 1\\\\\n",
    "\\end{array}\n",
    "\\right]\n",
    "=[I|E_2^{-1}]\n",
    "$$"
   ]
  },
  {
   "cell_type": "markdown",
   "metadata": {},
   "source": [
    "然后我们计算 $E_1$ 和 $E_2$ 的逆：\n",
    "$$\n",
    "E_1^{-1} = \\left[\\begin{array}{ccc|ccc} 1& 0& 0 \\\\ \\frac{1}{3}& 1& 0\\\\ 0& 0 &1  \\end{array}\\right]\\\\\n",
    "E_2^{-1} = \\left[\\begin{array}{ccc|ccc} 1& 0& 0 \\\\ 1& 1& 0\\\\ 0& \\frac{8}{3} &1  \\end{array}\\right]\n",
    "$$"
   ]
  },
  {
   "cell_type": "markdown",
   "metadata": {},
   "source": [
    "$$\n",
    "L = E_1^{-1}E_2^{-1}= \n",
    "\\left[\\begin{array}{ccc|ccc} 1& 0& 0 \\\\ \\frac{1}{3}& 1& 0\\\\ 0& 0 &1  \\end{array}\\right]\n",
    "\\left[\\begin{array}{ccc|ccc} 1& 0& 0 \\\\ 1& 1& 0\\\\ 0& \\frac{8}{3} &1 \\end{array}\\right]\n",
    "=\n",
    "\\left[\\begin{array}{ccc|ccc} 1& 0& 0 \\\\ \\frac{4}{3}&1& 0\\\\ 0& \\frac{8}{3} &1 \\end{array}\\right]\n",
    "$$"
   ]
  },
  {
   "cell_type": "markdown",
   "metadata": {},
   "source": [
    "LU 分解的最终结果：\n",
    "$$\n",
    "A = LU =\n",
    "\\underbrace{\n",
    "\\left[\\begin{array}{ccc|ccc} 1& 0& 0 \\\\ \\frac{4}{3}&1& 0\\\\ 0& \\frac{8}{3} &1 \\end{array}\\right]}_{L}\n",
    "\\underbrace{\n",
    "\\begin{bmatrix}\n",
    "9 & 3 & 6\\\\0 & 3 & 4\\\\0 & 0 & -\\frac{8}{3}\\\\ \n",
    "\\end{bmatrix}}_{E_2E_1A=U}\n",
    "$$"
   ]
  },
  {
   "cell_type": "markdown",
   "metadata": {},
   "source": [
    "我们可以看一下 SciPy 的结果。"
   ]
  },
  {
   "cell_type": "code",
   "execution_count": 3,
   "metadata": {},
   "outputs": [
    {
     "data": {
      "text/plain": [
       "array([[9, 3, 6],\n",
       "       [3, 4, 6],\n",
       "       [0, 8, 8]])"
      ]
     },
     "execution_count": 3,
     "metadata": {},
     "output_type": "execute_result"
    }
   ],
   "source": [
    "A = np.array([[9, 3, 6], [3, 4, 6], [0, 8, 8]]); A"
   ]
  },
  {
   "cell_type": "code",
   "execution_count": 4,
   "metadata": {
    "scrolled": true
   },
   "outputs": [
    {
     "data": {
      "text/plain": [
       "array([[1., 0., 0.],\n",
       "       [0., 0., 1.],\n",
       "       [0., 1., 0.]])"
      ]
     },
     "execution_count": 4,
     "metadata": {},
     "output_type": "execute_result"
    },
    {
     "data": {
      "text/plain": [
       "array([[1.        , 0.        , 0.        ],\n",
       "       [0.        , 1.        , 0.        ],\n",
       "       [0.33333333, 0.375     , 1.        ]])"
      ]
     },
     "execution_count": 4,
     "metadata": {},
     "output_type": "execute_result"
    },
    {
     "data": {
      "text/plain": [
       "array([[9., 3., 6.],\n",
       "       [0., 8., 8.],\n",
       "       [0., 0., 1.]])"
      ]
     },
     "execution_count": 4,
     "metadata": {},
     "output_type": "execute_result"
    }
   ],
   "source": [
    "P, L, U = sp.linalg.lu(A)\n",
    "P\n",
    "L\n",
    "U"
   ]
  },
  {
   "cell_type": "code",
   "execution_count": 5,
   "metadata": {},
   "outputs": [
    {
     "data": {
      "text/plain": [
       "array([[9., 3., 6.],\n",
       "       [3., 4., 6.],\n",
       "       [0., 8., 8.]])"
      ]
     },
     "execution_count": 5,
     "metadata": {},
     "output_type": "execute_result"
    }
   ],
   "source": [
    "P@L@U # 这是 A"
   ]
  },
  {
   "cell_type": "markdown",
   "metadata": {},
   "source": [
    "很容易注意到 SciPy 的 `lu` 函数不仅给出了 $L$ 和 $U$，还给出了 $P$，这是一个**置换矩阵**。理论上，我们不需要行交换来将 $A$ 转换为 $U$，但在某些情况下，我们必须提前进行行交换，否则分解将无法实现。\n",
    "\n",
    "因此，Scipy 使用 $PLU$ 分解来确保过程始终可行\n",
    "$$\n",
    "A  = PLU\n",
    "$$\n",
    "\n",
    "实际上，$P = P^{-1}$，为什么呢？在增广矩阵表达式中分析起来更容易，行交换的初等矩阵的逆矩阵就是它们自己。\n",
    "\n",
    "$$\n",
    "[P| I]=\\left[\\begin{array}{ccc|ccc}  \n",
    "1 & 0 & 0 & 1 & 0 & 0\\\\\n",
    "0 & 0 & 1 & 0 & 1 & 0\\\\\n",
    "0 & 1 & 0 & 0 & 0 & 1\n",
    "\\end{array}\\right]\n",
    "\\sim\n",
    "\\left[\\begin{array}{ccc|ccc}  \n",
    "1 & 0 & 0 & 1 & 0 & 0\\\\\n",
    "0 & 1 & 0 & 0 & 0 & 1\\\\\n",
    "0 & 0 & 1 & 0 & 1 & 0\n",
    "\\end{array}\\right]=[I| P^{-1}]  =[P^{-1}|I]\n",
    "$$\n",
    "\n",
    "有了这些知识，我们实际上正在分解的是\n",
    "\n",
    "$$\n",
    "PA = LU\n",
    "$$"
   ]
  },
  {
   "cell_type": "markdown",
   "metadata": {},
   "source": [
    "$$\n",
    "\\begin{align}\n",
    "E_2E_1E_0A &=\n",
    "\\underbrace{\n",
    "\\begin{bmatrix}\n",
    "1 & 0& 0\\\\0 & 1 & 0\\\\0 & -\\frac{3}{8} & 1\\\\\n",
    "\\end{bmatrix}}_{E_2}\n",
    "\\underbrace{\n",
    "\\begin{bmatrix}\n",
    "1 & 0& 0\\\\0 & 1 & 0\\\\-\\frac{1}{3} & 0 & 1\\\\\n",
    "\\end{bmatrix}}_{E_1}\n",
    "\\underbrace{\n",
    "\\begin{bmatrix}\n",
    "1 & 0& 0\\\\0 & 0 & 1\\\\0 & 1 & 0\\\\\n",
    "\\end{bmatrix}}_{E_0}\n",
    "\\begin{bmatrix}\n",
    "9 & 3 & 6\\\\3 & 4 & 6\\\\0 & 8 & 8\\\\\n",
    "\\end{bmatrix}\\\\\n",
    "E_2E_1E_0A &=\n",
    "\\underbrace{\n",
    "\\begin{bmatrix}\n",
    "1 & 0& 0\\\\0 & 1 & 0\\\\0 & -\\frac{3}{8} & 1\\\\\n",
    "\\end{bmatrix}}_{E_2}\n",
    "\\underbrace{\n",
    "\\begin{bmatrix}\n",
    "1 & 0& 0\\\\0 & 1 & 0\\\\-\\frac{1}{3} & 0 & 1\\\\\n",
    "\\end{bmatrix}}_{E_1}\n",
    "\\underbrace{\n",
    "\\begin{bmatrix}\n",
    "9& 3& 6\\\\0&8 &8\\\\ 3& 4& 6\n",
    "\\end{bmatrix}}_{E_0A}\\\\\n",
    "E_2E_1E_0A &=\n",
    "\\underbrace{\n",
    "\\begin{bmatrix}\n",
    "1 & 0& 0\\\\0 & 1 & 0\\\\0 & -\\frac{3}{8} & 1\\\\\n",
    "\\end{bmatrix}}_{E_2}\n",
    "\\underbrace{\n",
    "\\begin{bmatrix}\n",
    "9 &3 &6\\\\0 &8& 8 \\\\0& 3& 4\n",
    "\\end{bmatrix}}_{E_1E_0A}\\\\\n",
    "E_2E_1E_0A &=\n",
    "\\underbrace{\n",
    "\\begin{bmatrix}\n",
    "9 &3 &6\\\\0 &8& 8 \\\\0& 0& -1\n",
    "\\end{bmatrix}}_{E_2E_1E_0A}=U\n",
    "\\end{align}\n",
    "$$\n",
    "重新排列一下，我们可以看到 $PL$：\n",
    "$$\n",
    "A = \\underbrace{E_0^{-1}}_{P} \\underbrace{(E_1^{-1}E_2^{-1})}_{L}U\n",
    "$$"
   ]
  },
  {
   "cell_type": "markdown",
   "metadata": {},
   "source": [
    "# <font face=\"gotham\" color=\"purple\"> 通过使用 LU 分解求解线性系统</font>"
   ]
  },
  {
   "cell_type": "markdown",
   "metadata": {},
   "source": [
    "求解线性系统：\n",
    "$$\n",
    "\\begin{align}\n",
    "3x_1-7x_2 -2x_3+2x_4&=-9\\\\\n",
    "-3x_1+5x_2 +x_3 &=5\\\\\n",
    "6x_1-4x_2 -5x_4&=7\\\\\n",
    "-9x_1+5x_2 -5x_3+12x_4&=11\\\\\n",
    "\\end{align}\n",
    "$$\n",
    "以矩阵形式：\n",
    "$$\n",
    "\\underbrace{\\left[\\begin{array}{rrrr}\n",
    "3 & -7 & -2 & 2 \\\\\n",
    "-3 & 5 & 1 & 0 \\\\\n",
    "6 & -4 & 0 & -5 \\\\\n",
    "-9 & 5 & -5 & 12\n",
    "\\end{array}\\right]}_{A}\n",
    "\\left[\\begin{array}{r}\n",
    "x_1 \\\\\n",
    "x_2 \\\\\n",
    "x_3 \\\\\n",
    "x_4\n",
    "\\end{array}\\right]\n",
    "=\n",
    "\\underbrace{\\left[\\begin{array}{r}\n",
    "-9 \\\\\n",
    "5 \\\\\n",
    "7 \\\\\n",
    "11\n",
    "\\end{array}\\right]}_{b}\n",
    "$$\n",
    "进行 $LU$ 分解：\n",
    "\n",
    "$$\\underbrace{\\left[\\begin{array}{rrrr}\n",
    "3 & -7 & -2 & 2 \\\\\n",
    "-3 & 5 & 1 & 0 \\\\\n",
    "6 & -4 & 0 & -5 \\\\\n",
    "-9 & 5 & -5 & 12\n",
    "\\end{array}\\right]}_{A}\n",
    "=\\underbrace{\n",
    "\\left[\\begin{array}{rrrr}\n",
    "1 & 0 & 0 & 0 \\\\\n",
    "-1 & 1 & 0 & 0 \\\\\n",
    "2 & -5 & 1 & 0 \\\\\n",
    "-3 & 8 & 3 & 1\n",
    "\\end{array}\\right]}_{L}\\underbrace{\\left[\\begin{array}{rrrr}\n",
    "3 & -7 & -2 & 2 \\\\\n",
    "0 & -2 & -1 & 2 \\\\\n",
    "0 & 0 & -1 & 1 \\\\\n",
    "0 & 0 & 0 & -1\n",
    "\\end{array}\\right]}_{U}$$"
   ]
  },
  {
   "cell_type": "markdown",
   "metadata": {},
   "source": [
    "将 $A$ 替换为 $LU$，我们得到 $L(Ux) = b$，现在解这对方程组\n",
    "\n",
    "$$\n",
    "Ly = b\\\\\n",
    "Ux = y\n",
    "$$\n",
    "\n",
    "构造增广矩阵 $[L|b]$\n"
   ]
  },
  {
   "cell_type": "markdown",
   "metadata": {},
   "source": [
    "$$\n",
    "\\underbrace{\n",
    "\\left[\\begin{array}{rrrr}\n",
    "1 & 0 & 0 & 0 \\\\\n",
    "-1 & 1 & 0 & 0 \\\\\n",
    "2 & -5 & 1 & 0 \\\\\n",
    "-3 & 8 & 3 & 1\n",
    "\\end{array}\\right]}_{L}\n",
    "\\underbrace{\\left[\\begin{array}{r}\n",
    "y_1 \\\\\n",
    "y_2 \\\\\n",
    "y_3 \\\\\n",
    "y_4\n",
    "\\end{array}\\right]}_{y}\n",
    "=\n",
    "\\underbrace{\\left[\\begin{array}{r}\n",
    "-9 \\\\\n",
    "5 \\\\\n",
    "7 \\\\\n",
    "11\n",
    "\\end{array}\\right]}_{b}\n",
    "$$"
   ]
  },
  {
   "cell_type": "markdown",
   "metadata": {},
   "source": [
    "$$\n",
    "\\left[\\begin{array}{rrrr|r}\n",
    "1 & 0 & 0 & 0 & -9 \\\\\n",
    "-1 & 1 & 0 & 0 & 5\\\\\n",
    "2 & -5 & 1 & 0 & 7\\\\\n",
    "-3 & 8 & 3 & 1 & 11\n",
    "\\end{array}\\right]\\sim\n",
    "\\left[\\begin{array}{rrrr|r}\n",
    "1 & 0 & 0 & 0 & -9 \\\\\n",
    "0 & 1 & 0 & 0 & -4\\\\\n",
    "0 & 0 & 1 & 0 & 5\\\\\n",
    "0 & 0 & 0 & 1 & 1\n",
    "\\end{array}\\right]\n",
    "$$"
   ]
  },
  {
   "cell_type": "markdown",
   "metadata": {},
   "source": [
    "$$\n",
    "\\left[\\begin{array}{r}\n",
    "y_1 \\\\\n",
    "y_2 \\\\\n",
    "y_3 \\\\\n",
    "y_4\n",
    "\\end{array}\\right]=\n",
    "\\left[\\begin{array}{r}\n",
    "-9 \\\\\n",
    "-4 \\\\\n",
    "5 \\\\\n",
    "1\n",
    "\\end{array}\\right]\n",
    "$$"
   ]
  },
  {
   "cell_type": "markdown",
   "metadata": {},
   "source": [
    "接下来我们解 $Ux = y$，在 NumPy 中展示如下："
   ]
  },
  {
   "cell_type": "code",
   "execution_count": 6,
   "metadata": {},
   "outputs": [
    {
     "data": {
      "text/plain": [
       "array([ 3.,  4., -6., -1.])"
      ]
     },
     "execution_count": 6,
     "metadata": {},
     "output_type": "execute_result"
    }
   ],
   "source": [
    "U = np.array([[3, -7, -2, 2], [0, -2, -1, 2], [0, 0, -1, 1], [0, 0, 0,-1]])\n",
    "y = np.array([-9, -4, 5, 1])\n",
    "np.linalg.solve(U, y)"
   ]
  },
  {
   "cell_type": "markdown",
   "metadata": {},
   "source": [
    "如果过程正确，这就是系统的解，我们可以通过调用 ```np.linalg.solve()``` 来验证结果。"
   ]
  },
  {
   "cell_type": "code",
   "execution_count": 7,
   "metadata": {},
   "outputs": [
    {
     "data": {
      "text/plain": [
       "array([ 3.,  4., -6., -1.])"
      ]
     },
     "execution_count": 7,
     "metadata": {},
     "output_type": "execute_result"
    }
   ],
   "source": [
    "A = np.array([[3, -7, -2, 2], [-3, 5, 1, 0], [6, -4, 0, -5], [-9, 5, -5, 12]])\n",
    "b = np.array([-9, 5, 7, 11])\n",
    "np.linalg.solve(A, b)"
   ]
  },
  {
   "cell_type": "markdown",
   "metadata": {},
   "source": [
    "结果是一致的，$LU$ 分解有效！"
   ]
  },
  {
   "cell_type": "markdown",
   "metadata": {},
   "source": []
  }
 ],
 "metadata": {
  "kernelspec": {
   "display_name": "Python 3",
   "language": "python",
   "name": "python3"
  },
  "language_info": {
   "codemirror_mode": {
    "name": "ipython",
    "version": 3
   },
   "file_extension": ".py",
   "mimetype": "text/x-python",
   "name": "python",
   "nbconvert_exporter": "python",
   "pygments_lexer": "ipython3",
   "version": "3.12.2"
  },
  "toc": {
   "base_numbering": 1,
   "nav_menu": {},
   "number_sections": true,
   "sideBar": true,
   "skip_h1_title": false,
   "title_cell": "Table of Contents",
   "title_sidebar": "Contents",
   "toc_cell": false,
   "toc_position": {},
   "toc_section_display": true,
   "toc_window_display": false
  }
 },
 "nbformat": 4,
 "nbformat_minor": 4
}
