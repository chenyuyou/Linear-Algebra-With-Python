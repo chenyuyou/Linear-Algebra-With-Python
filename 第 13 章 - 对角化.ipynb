{
 "cells": [
  {
   "cell_type": "code",
   "execution_count": 1,
   "metadata": {},
   "outputs": [],
   "source": [
    "import numpy as np\n",
    "import sympy as sy\n",
    "sy.init_printing()  \n",
    "import matplotlib.pyplot as plt\n",
    "plt.style.use('ggplot')"
   ]
  },
  {
   "cell_type": "markdown",
   "metadata": {},
   "source": [
    "# <font face=\"gotham\" color=\"purple\"> 相似性 </font>"
   ]
  },
  {
   "cell_type": "markdown",
   "metadata": {},
   "source": [
    "如果$A = PBP^{-1}$，我们说$A$ _相似_ 于$B$，将$A$分解为$PBP^{-1}$也称为_相似变换_。\n",
    "\n",
    "如果$n\\times n$矩阵$A$和$B$相似，则它们具有 _相同的特征值_。\n",
    "\n",
    "_对角化_，我们将在下面解释，是找到相似矩阵的过程。"
   ]
  },
  {
   "cell_type": "markdown",
   "metadata": {},
   "source": [
    "# <font face=\"gotham\" color=\"purple\"> 对角化矩阵</font>"
   ]
  },
  {
   "cell_type": "markdown",
   "metadata": {},
   "source": [
    "设$A$是一个$n\\times n$矩阵。如果存在一个$n\\times n$可逆矩阵$P$和一个对角矩阵$D$，使得\n",
    "\n",
    "$$\n",
    "A=PDP^{-1}\n",
    "$$\n",
    "\n",
    "那么矩阵$A$称为一个 _可对角化矩阵_。"
   ]
  },
  {
   "cell_type": "markdown",
   "metadata": {},
   "source": [
    "此外，$P$的列是$A$的线性无关的特征向量，并且其相应的特征值位于$D$的对角线上。换句话说，当且仅当特征空间的基的维度为$n$时，$A$是可对角化的。</font>"
   ]
  },
  {
   "cell_type": "markdown",
   "metadata": {},
   "source": [
    "让我们展示为什么这个方程成立。"
   ]
  },
  {
   "cell_type": "markdown",
   "metadata": {},
   "source": [
    "设\n",
    "\n",
    "$$\n",
    "P = \\left[\\begin{array}{llll}\n",
    "{v}_{1} & {v}_{2} & \\cdots & {v}_{n}\n",
    "\\end{array}\\right]\\\\\n",
    "$$\n",
    "\n",
    "$$\n",
    "D = \\left[\\begin{array}{cccc}\n",
    "\\lambda_{1} & 0 & \\cdots & 0 \\\\\n",
    "0 & \\lambda_{2} & \\cdots & 0 \\\\\n",
    "\\vdots & \\vdots & & \\vdots \\\\\n",
    "0 & 0 & \\cdots & \\lambda_{n}\n",
    "\\end{array}\\right]\n",
    "$$\n",
    "\n",
    "其中$v_i, i \\in (1, 2, ...n)$是$A$的特征向量，$\\lambda_i, i \\in (1, 2, ...n)$是$A$的特征值。"
   ]
  },
  {
   "cell_type": "markdown",
   "metadata": {},
   "source": [
    "$$\n",
    "AP = A\\left[\\begin{array}{llll}\n",
    "{v}_{1} & {v}_{2} & \\cdots & {v}_{n}\n",
    "\\end{array}\\right]=\\left[\\begin{array}{llll}\n",
    "A {v}_{1} & A {v}_{2} & \\cdots & A {v}_{n}\n",
    "\\end{array}\\right]\n",
    "$$"
   ]
  },
  {
   "cell_type": "markdown",
   "metadata": {},
   "source": [
    "$$P D=P\\left[\\begin{array}{cccc}\n",
    "\\lambda_{1} & 0 & \\cdots & 0 \\\\\n",
    "0 & \\lambda_{2} & \\cdots & 0 \\\\\n",
    "\\vdots & \\vdots & & \\vdots \\\\\n",
    "0 & 0 & \\cdots & \\lambda_{n}\n",
    "\\end{array}\\right]=\\left[\\begin{array}{lllll}\n",
    "\\lambda_{1} {v}_{1} & \\lambda_{2} {v}_{2} & \\cdots & \\lambda_{n} {v}_{n}\n",
    "\\end{array}\\right]$$"
   ]
  },
  {
   "cell_type": "markdown",
   "metadata": {},
   "source": [
    "我们知道$A{v}_i = \\lambda_i{v}_i$，即\n",
    "\n",
    "$$\n",
    "AP = PD\n",
    "$$\n",
    "\n",
    "由于$P$具有所有独立的特征向量，因此\n",
    "\n",
    "$$\n",
    "A = PDP^{-1}\n",
    "$$"
   ]
  },
  {
   "cell_type": "markdown",
   "metadata": {},
   "source": [
    "严格来说，如果$A$是对称的，即$A=A^T$，我们刚刚展示的被称为**谱分解**，相似矩阵$D$上保持所有特征值。 而$P$是正交矩阵，这意味着它的任意两列是垂直的。 因此，它可以重写为\n",
    "$$\n",
    "A = PDP^{T}\n",
    "$$"
   ]
  },
  {
   "cell_type": "markdown",
   "metadata": {},
   "source": [
    "# <font face=\"gotham\" color=\"purple\"> 谱分解可视化</font>"
   ]
  },
  {
   "cell_type": "markdown",
   "metadata": {},
   "source": [
    "这些图表实际上展示了每个分解矩阵的功能，$P$和$P^T$用于旋转因为它们是正交的，而$D$用于缩放因为它是对角的。"
   ]
  },
  {
   "cell_type": "code",
   "execution_count": 2,
   "metadata": {},
   "outputs": [
    {
     "data": {
      "image/png": "[encoded data removed]",
      "text/plain": [
       "<Figure size 1500x400 with 4 Axes>"
      ]
     },
     "metadata": {},
     "output_type": "display_data"
    }
   ],
   "source": [
    "import numpy as np\n",
    "import matplotlib.pyplot as plt\n",
    "\n",
    "# Define matrix A\n",
    "A = np.array([[1, 3], [3, -5]])\n",
    "\n",
    "# Calculate eigenvalues and eigenvectors\n",
    "eigenvalues, eigenvectors = np.linalg.eig(A)\n",
    "\n",
    "# Plot eigenvectors\n",
    "fig, ax = plt.subplots(figsize=(15, 4), nrows=1, ncols=4)\n",
    "for i in range(2):\n",
    "    ax[0].quiver(0, 0, eigenvectors[:,i][0], eigenvectors[:,i][1], angles='xy', \n",
    "                 scale_units='xy', scale=1, color=['r','b'][i])\n",
    "ax[0].set_xlim(-2, 2)\n",
    "ax[0].set_ylim(-2, 2)\n",
    "\n",
    "for i in range(4):\n",
    "    ax[i].set_xlabel('x')\n",
    "    ax[i].set_ylabel('y')\n",
    "    ax[i].set_aspect('equal')\n",
    "\n",
    "ax[1].quiver(0, 0, 1, 0, angles='xy', \n",
    "             scale_units='xy', scale=1, color=['r'])\n",
    "ax[1].quiver(0, 0, 0, 1, angles='xy', \n",
    "             scale_units='xy', scale=1, color=['b'])\n",
    "ax[1].set_xlim(-2, 2)\n",
    "ax[1].set_ylim(-2, 2)\n",
    "ax[1].set_title('$P^T$')\n",
    "\n",
    "\n",
    "ax[2].quiver(0, 0, eigenvalues[0], 0, angles='xy', \n",
    "             scale_units='xy', scale=1, color=['r'])\n",
    "ax[2].quiver(0, 0, 0, eigenvalues[1], angles='xy', \n",
    "             scale_units='xy', scale=1, color=['b'])\n",
    "ax[2].set_xlim(-7, 7)\n",
    "ax[2].set_ylim(-7, 7)\n",
    "ax[2].set_title('$DP^T$')\n",
    "\n",
    "temp = np.array([[eigenvalues[0], 0],\n",
    "                 [0, eigenvalues[1]]])\n",
    "temp1 = temp@eigenvectors\n",
    "\n",
    "ax[3].quiver(0, 0, temp1[:,0][0], temp1[:,0][1], angles='xy', \n",
    "             scale_units='xy', scale=1, color=['r'])\n",
    "ax[3].quiver(0, 0, temp1[:,1][0], temp1[:,1][1], angles='xy', \n",
    "             scale_units='xy', scale=1, color=['b'])\n",
    "ax[3].set_xlim(-7, 7)\n",
    "ax[3].set_ylim(-7, 7)\n",
    "ax[3].set_title('$PDP^T$')\n",
    "\n",
    "plt.show()"
   ]
  },
  {
   "cell_type": "markdown",
   "metadata": {},
   "source": [
    "然而，在现实中我们并没有太多机会处理对称矩阵，因此谱分解在大多数情况下仅用于理论演示，实际应用较少。"
   ]
  },
  {
   "cell_type": "markdown",
   "metadata": {},
   "source": [
    "# <font face=\"gotham\" color=\"purple\"> 对角化矩阵</font>"
   ]
  },
  {
   "cell_type": "markdown",
   "metadata": {},
   "source": [
    "考虑一个矩阵\n",
    "\n",
    "$$A=\\left[\\begin{array}{rrr}\n",
    "1 & 3 & 3 \\\\\n",
    "-3 & -5 & -3 \\\\\n",
    "3 & 3 & 1\n",
    "\\end{array}\\right]$$\n",
    "\n",
    "我们试图对矩阵$A$进行对角化。"
   ]
  },
  {
   "cell_type": "markdown",
   "metadata": {},
   "source": [
    "按照以下步骤进行：\n",
    "\n",
    "1. 计算$A$的特征值\n",
    "2. 计算$A$的特征向量\n",
    "3. 构造$P$。\n",
    "4. 从$P$的相应列构造$D$。"
   ]
  },
  {
   "cell_type": "code",
   "execution_count": 3,
   "metadata": {},
   "outputs": [
    {
     "data": {
      "text/latex": [
       "$\\displaystyle \\left[ \\left( -2, \\  2, \\  \\left[ \\left[\\begin{matrix}-1\\\\1\\\\0\\end{matrix}\\right], \\  \\left[\\begin{matrix}-1\\\\0\\\\1\\end{matrix}\\right]\\right]\\right), \\  \\left( 1, \\  1, \\  \\left[ \\left[\\begin{matrix}1\\\\-1\\\\1\\end{matrix}\\right]\\right]\\right)\\right]$"
      ],
      "text/plain": [
       "⎡⎛       ⎡⎡-1⎤  ⎡-1⎤⎤⎞  ⎛      ⎡⎡1 ⎤⎤⎞⎤\n",
       "⎢⎜       ⎢⎢  ⎥  ⎢  ⎥⎥⎟  ⎜      ⎢⎢  ⎥⎥⎟⎥\n",
       "⎢⎜-2, 2, ⎢⎢1 ⎥, ⎢0 ⎥⎥⎟, ⎜1, 1, ⎢⎢-1⎥⎥⎟⎥\n",
       "⎢⎜       ⎢⎢  ⎥  ⎢  ⎥⎥⎟  ⎜      ⎢⎢  ⎥⎥⎟⎥\n",
       "⎣⎝       ⎣⎣0 ⎦  ⎣1 ⎦⎦⎠  ⎝      ⎣⎣1 ⎦⎦⎠⎦"
      ]
     },
     "execution_count": 3,
     "metadata": {},
     "output_type": "execute_result"
    }
   ],
   "source": [
    "A = sy.Matrix([[1,3,3], [-3, -5, -3], [3,3,1]])\n",
    "eig = sy.matrices.matrices.MatrixEigen.eigenvects(A)\n",
    "eig"
   ]
  },
  {
   "cell_type": "markdown",
   "metadata": {},
   "source": [
    "提醒一下，返回值采用以下形式 ```[(eigenval, multiplicity, eigenspace), ...]```."
   ]
  },
  {
   "cell_type": "markdown",
   "metadata": {},
   "source": [
    "构造$P$"
   ]
  },
  {
   "cell_type": "code",
   "execution_count": 4,
   "metadata": {},
   "outputs": [
    {
     "data": {
      "text/latex": [
       "$\\displaystyle \\left[\\begin{matrix}-1 & -1 & 1\\\\1 & 0 & -1\\\\0 & 1 & 1\\end{matrix}\\right]$"
      ],
      "text/plain": [
       "⎡-1  -1  1 ⎤\n",
       "⎢          ⎥\n",
       "⎢1   0   -1⎥\n",
       "⎢          ⎥\n",
       "⎣0   1   1 ⎦"
      ]
     },
     "execution_count": 4,
     "metadata": {},
     "output_type": "execute_result"
    }
   ],
   "source": [
    "P = sy.zeros(3, 3)\n",
    "P[:, 0] = eig[0][2][0]\n",
    "P[:, 1] = eig[0][2][1]\n",
    "P[:, 2] = eig[1][2][0]\n",
    "P"
   ]
  },
  {
   "cell_type": "markdown",
   "metadata": {},
   "source": [
    "构造$D$"
   ]
  },
  {
   "cell_type": "code",
   "execution_count": 5,
   "metadata": {},
   "outputs": [
    {
     "data": {
      "text/latex": [
       "$\\displaystyle \\left[\\begin{matrix}-2 & 0 & 0\\\\0 & -2 & 0\\\\0 & 0 & 1\\end{matrix}\\right]$"
      ],
      "text/plain": [
       "⎡-2  0   0⎤\n",
       "⎢         ⎥\n",
       "⎢0   -2  0⎥\n",
       "⎢         ⎥\n",
       "⎣0   0   1⎦"
      ]
     },
     "execution_count": 5,
     "metadata": {},
     "output_type": "execute_result"
    }
   ],
   "source": [
    "D = sy.diag(eig[0][0], eig[0][0], eig[1][0])\n",
    "D"
   ]
  },
  {
   "cell_type": "markdown",
   "metadata": {},
   "source": [
    "我们可以验证$PDP^{-1}=A$是否成立："
   ]
  },
  {
   "cell_type": "code",
   "execution_count": 6,
   "metadata": {},
   "outputs": [
    {
     "data": {
      "text/plain": [
       "True"
      ]
     },
     "execution_count": 6,
     "metadata": {},
     "output_type": "execute_result"
    }
   ],
   "source": [
    "P * D * P.inv() == A "
   ]
  },
  {
   "cell_type": "markdown",
   "metadata": {},
   "source": [
    "当然，我们不需要单独进行这个过程。SymPy中有```diagonalize```方法。"
   ]
  },
  {
   "cell_type": "code",
   "execution_count": 7,
   "metadata": {},
   "outputs": [],
   "source": [
    "P, D = A.diagonalize()"
   ]
  },
  {
   "cell_type": "code",
   "execution_count": 8,
   "metadata": {},
   "outputs": [
    {
     "data": {
      "text/latex": [
       "$\\displaystyle \\left[\\begin{matrix}-1 & -1 & 1\\\\1 & 0 & -1\\\\0 & 1 & 1\\end{matrix}\\right]$"
      ],
      "text/plain": [
       "⎡-1  -1  1 ⎤\n",
       "⎢          ⎥\n",
       "⎢1   0   -1⎥\n",
       "⎢          ⎥\n",
       "⎣0   1   1 ⎦"
      ]
     },
     "execution_count": 8,
     "metadata": {},
     "output_type": "execute_result"
    }
   ],
   "source": [
    "P"
   ]
  },
  {
   "cell_type": "code",
   "execution_count": 9,
   "metadata": {},
   "outputs": [
    {
     "data": {
      "text/latex": [
       "$\\displaystyle \\left[\\begin{matrix}-2 & 0 & 0\\\\0 & -2 & 0\\\\0 & 0 & 1\\end{matrix}\\right]$"
      ],
      "text/plain": [
       "⎡-2  0   0⎤\n",
       "⎢         ⎥\n",
       "⎢0   -2  0⎥\n",
       "⎢         ⎥\n",
       "⎣0   0   1⎦"
      ]
     },
     "execution_count": 9,
     "metadata": {},
     "output_type": "execute_result"
    }
   ],
   "source": [
    "D"
   ]
  },
  {
   "cell_type": "markdown",
   "metadata": {},
   "source": [
    "我们得到了与先前单独步骤相同的结果。"
   ]
  },
  {
   "cell_type": "markdown",
   "metadata": {},
   "source": [
    "有时我们只想测试一个矩阵是否可对角化，然后在SymPy中使用```is_diagonalizable```。"
   ]
  },
  {
   "cell_type": "code",
   "execution_count": 10,
   "metadata": {},
   "outputs": [
    {
     "data": {
      "text/plain": [
       "True"
      ]
     },
     "execution_count": 10,
     "metadata": {},
     "output_type": "execute_result"
    }
   ],
   "source": [
    "A.is_diagonalizable()"
   ]
  },
  {
   "cell_type": "markdown",
   "metadata": {},
   "source": [
    "如果$A$是对称的，它的所有特征向量都是正交的。"
   ]
  },
  {
   "cell_type": "markdown",
   "metadata": {},
   "source": [
    "$$\n",
    "Av_1 = \\lambda_1v_1 \\quad \\text{and} \\quad Av_2 = \\lambda_2v_2\n",
    "$$"
   ]
  },
  {
   "cell_type": "markdown",
   "metadata": {},
   "source": [
    "$$\n",
    "v_2 \\cdot Av_1 = \\lambda_1v_1 \\cdot v_2\\\\\n",
    "v_1 \\cdot Av_2 = \\lambda_2v_2 \\cdot v_1\n",
    "$$"
   ]
  },
  {
   "cell_type": "markdown",
   "metadata": {},
   "source": [
    "$$\n",
    "v_1 \\cdot Av_2 = v_1 \\cdot A^Tv_2 = v_1 \\cdot \\lambda_2v_2 = \\lambda_2v_1 \\cdot v_2\\\\\n",
    "v_2 \\cdot Av_1 = v_2 \\cdot A^Tv_1 = v_2 \\cdot \\lambda_1v_1 = \\lambda_1v_2 \\cdot v_1\n",
    "$$"
   ]
  }
 ],
 "metadata": {
  "kernelspec": {
   "display_name": "Python 3 (ipykernel)",
   "language": "python",
   "name": "python3"
  },
  "language_info": {
   "codemirror_mode": {
    "name": "ipython",
    "version": 3
   },
   "file_extension": ".py",
   "mimetype": "text/x-python",
   "name": "python",
   "nbconvert_exporter": "python",
   "pygments_lexer": "ipython3",
   "version": "3.12.2"
  },
  "toc": {
   "base_numbering": 1,
   "nav_menu": {},
   "number_sections": true,
   "sideBar": true,
   "skip_h1_title": false,
   "title_cell": "Table of Contents",
   "title_sidebar": "Contents",
   "toc_cell": false,
   "toc_position": {},
   "toc_section_display": true,
   "toc_window_display": false
  }
 },
 "nbformat": 4,
 "nbformat_minor": 4
}
